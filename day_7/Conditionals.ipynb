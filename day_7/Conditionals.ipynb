{
 "cells": [
  {
   "cell_type": "code",
   "execution_count": 1,
   "id": "a6181247",
   "metadata": {},
   "outputs": [
    {
     "name": "stdout",
     "output_type": "stream",
     "text": [
      "You are old enough to learn to drive.\n"
     ]
    }
   ],
   "source": [
    "# Level 1\n",
    "# Exercise 1: Age check for driving\n",
    "age = int(input(\"Enter your age: \"))\n",
    "if age >= 18:\n",
    "    print(\"You are old enough to learn to drive.\")\n",
    "else:\n",
    "    print(f\"You need {18 - age} more years to learn to drive.\")\n"
   ]
  },
  {
   "cell_type": "code",
   "execution_count": 2,
   "id": "82d9534b",
   "metadata": {},
   "outputs": [
    {
     "name": "stdout",
     "output_type": "stream",
     "text": [
      "You are 3 years younger than me.\n"
     ]
    }
   ],
   "source": [
    "# Exercise 2: Compare my_age and your_age\n",
    "my_age = 25  # Example age\n",
    "your_age = int(input(\"Enter your age: \"))\n",
    "if my_age > your_age:\n",
    "    age_difference = my_age - your_age\n",
    "    if age_difference == 1:\n",
    "        print(f\"You are {age_difference} year younger than me.\")\n",
    "    else:\n",
    "        print(f\"You are {age_difference} years younger than me.\")\n",
    "elif my_age < your_age:\n",
    "    age_difference = your_age - my_age\n",
    "    if age_difference == 1:\n",
    "        print(f\"I am {age_difference} year younger than you.\")\n",
    "    else:\n",
    "        print(f\"I am {age_difference} years younger than you.\")\n",
    "else:\n",
    "    print(\"We are the same age.\")\n"
   ]
  },
  {
   "cell_type": "code",
   "execution_count": 3,
   "id": "b5187d4d",
   "metadata": {},
   "outputs": [
    {
     "name": "stdout",
     "output_type": "stream",
     "text": [
      "22 is greater than 2\n"
     ]
    }
   ],
   "source": [
    "# Exercise 3: Compare two numbers\n",
    "a = int(input(\"Enter number one: \"))\n",
    "b = int(input(\"Enter number two: \"))\n",
    "if a > b:\n",
    "    print(f\"{a} is greater than {b}\")\n",
    "elif a < b:\n",
    "    print(f\"{a} is smaller than {b}\")\n",
    "else:\n",
    "    print(f\"{a} is equal to {b}\")\n"
   ]
  },
  {
   "cell_type": "code",
   "execution_count": 4,
   "id": "2b4fef6f",
   "metadata": {},
   "outputs": [
    {
     "name": "stdout",
     "output_type": "stream",
     "text": [
      "Grade: F\n"
     ]
    }
   ],
   "source": [
    "# Level 2\n",
    "# Exercise 1: Grade assignment\n",
    "score = int(input(\"Enter the student's score: \"))\n",
    "if 80 <= score <= 100:\n",
    "    print(\"Grade: A\")\n",
    "elif 70 <= score <= 89:\n",
    "    print(\"Grade: B\")\n",
    "elif 60 <= score <= 69:\n",
    "    print(\"Grade: C\")\n",
    "elif 50 <= score <= 59:\n",
    "    print(\"Grade: D\")\n",
    "else:\n",
    "    print(\"Grade: F\")\n"
   ]
  },
  {
   "cell_type": "code",
   "execution_count": 5,
   "id": "5fa348b6",
   "metadata": {},
   "outputs": [
    {
     "name": "stdout",
     "output_type": "stream",
     "text": [
      "Invalid month input.\n"
     ]
    }
   ],
   "source": [
    "# Exercise 2: Season check\n",
    "month = input(\"Enter the month: \").lower()\n",
    "if month in ['september', 'october', 'november']:\n",
    "    print(\"The season is Autumn.\")\n",
    "elif month in ['december', 'january', 'february']:\n",
    "    print(\"The season is Winter.\")\n",
    "elif month in ['march', 'april', 'may']:\n",
    "    print(\"The season is Spring.\")\n",
    "elif month in ['june', 'july', 'august']:\n",
    "    print(\"The season is Summer.\")\n",
    "else:\n",
    "    print(\"Invalid month input.\")\n"
   ]
  },
  {
   "cell_type": "code",
   "execution_count": 6,
   "id": "a5190cd9",
   "metadata": {},
   "outputs": [
    {
     "name": "stdout",
     "output_type": "stream",
     "text": [
      "Updated fruit list: ['banana', 'orange', 'mango', 'lemon', '22']\n"
     ]
    }
   ],
   "source": [
    "# Exercise 3: Add fruit to list\n",
    "fruits = ['banana', 'orange', 'mango', 'lemon']\n",
    "fruit = input(\"Enter the fruit to check: \").lower()\n",
    "if fruit not in fruits:\n",
    "    fruits.append(fruit)\n",
    "    print(\"Updated fruit list:\", fruits)\n",
    "else:\n",
    "    print(\"That fruit already exists in the list.\")\n"
   ]
  },
  {
   "cell_type": "code",
   "execution_count": 7,
   "id": "f3b4bb9e",
   "metadata": {},
   "outputs": [
    {
     "name": "stdout",
     "output_type": "stream",
     "text": [
      "The middle skill is: Node\n"
     ]
    }
   ],
   "source": [
    "# Level 3\n",
    "# Exercise 1: Check middle skill\n",
    "person = {\n",
    "    'first_name': 'Asabeneh',\n",
    "    'last_name': 'Yetayeh',\n",
    "    'age': 250,\n",
    "    'country': 'Finland',\n",
    "    'is_married': True,\n",
    "    'skills': ['JavaScript', 'React', 'Node', 'MongoDB', 'Python'],\n",
    "    'address': {\n",
    "        'street': 'Space street',\n",
    "        'zipcode': '02210'\n",
    "    }\n",
    "}\n",
    "if 'skills' in person:\n",
    "    middle_skill = person['skills'][len(person['skills']) // 2]\n",
    "    print(f\"The middle skill is: {middle_skill}\")\n"
   ]
  },
  {
   "cell_type": "code",
   "execution_count": 8,
   "id": "8b654b66",
   "metadata": {},
   "outputs": [
    {
     "name": "stdout",
     "output_type": "stream",
     "text": [
      "Python skill exists in the skills list.\n"
     ]
    }
   ],
   "source": [
    "# Exercise 2: Check if Python skill exists\n",
    "if 'skills' in person and 'Python' in person['skills']:\n",
    "    print(\"Python skill exists in the skills list.\")\n"
   ]
  },
  {
   "cell_type": "code",
   "execution_count": 9,
   "id": "ea1658d2",
   "metadata": {},
   "outputs": [
    {
     "name": "stdout",
     "output_type": "stream",
     "text": [
      "He is a backend developer.\n"
     ]
    }
   ],
   "source": [
    "# Exercise 3: Identify job title based on skills\n",
    "if 'skills' in person:\n",
    "    skills = person['skills']\n",
    "    if 'JavaScript' in skills and 'React' in skills and len(skills) == 2:\n",
    "        print(\"He is a front end developer.\")\n",
    "    elif 'Node' in skills and 'Python' in skills and 'MongoDB' in skills:\n",
    "        print(\"He is a backend developer.\")\n",
    "    elif 'React' in skills and 'Node' in skills and 'MongoDB' in skills:\n",
    "        print(\"He is a fullstack developer.\")\n",
    "    else:\n",
    "        print(\"Unknown title.\")\n"
   ]
  },
  {
   "cell_type": "code",
   "execution_count": 10,
   "id": "b8a27644",
   "metadata": {},
   "outputs": [
    {
     "name": "stdout",
     "output_type": "stream",
     "text": [
      "Asabeneh Yetayeh lives in Finland. He is married.\n"
     ]
    }
   ],
   "source": [
    "# Exercise 4: Check marital status and location\n",
    "if person['is_married'] and person['country'] == 'Finland':\n",
    "    print(f\"{person['first_name']} {person['last_name']} lives in {person['country']}. He is married.\")\n"
   ]
  }
 ],
 "metadata": {
  "kernelspec": {
   "display_name": "Python 3",
   "language": "python",
   "name": "python3"
  },
  "language_info": {
   "codemirror_mode": {
    "name": "ipython",
    "version": 3
   },
   "file_extension": ".py",
   "mimetype": "text/x-python",
   "name": "python",
   "nbconvert_exporter": "python",
   "pygments_lexer": "ipython3",
   "version": "3.12.8"
  }
 },
 "nbformat": 4,
 "nbformat_minor": 5
}
