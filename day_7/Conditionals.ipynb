{
 "cells": [
  {
   "cell_type": "markdown",
   "id": "9eeeb4f3",
   "metadata": {},
   "source": [
    "### Level 1 Conditionals Exercises  "
   ]
  },
  {
   "cell_type": "code",
   "execution_count": null,
   "id": "a6181247",
   "metadata": {},
   "outputs": [],
   "source": [
    "# Exercise 1: Age check for driving\n",
    "age = int(input(\"Enter your age: \"))\n",
    "if age >= 18:\n",
    "    print(\"You are old enough to learn to drive.\")\n",
    "else:\n",
    "    print(f\"You need {18 - age} more years to learn to drive.\")"
   ]
  },
  {
   "cell_type": "code",
   "execution_count": null,
   "id": "82d9534b",
   "metadata": {},
   "outputs": [],
   "source": [
    "# Exercise 2: Compare my_age and your_age\n",
    "my_age = 25  # Example age\n",
    "your_age = int(input(\"Enter your age: \"))\n",
    "if my_age > your_age:\n",
    "    age_difference = my_age - your_age\n",
    "    if age_difference == 1:\n",
    "        print(f\"You are {age_difference} year younger than me.\")\n",
    "    else:\n",
    "        print(f\"You are {age_difference} years younger than me.\")\n",
    "elif my_age < your_age:\n",
    "    age_difference = your_age - my_age\n",
    "    if age_difference == 1:\n",
    "        print(f\"I am {age_difference} year younger than you.\")\n",
    "    else:\n",
    "        print(f\"I am {age_difference} years younger than you.\")\n",
    "else:\n",
    "    print(\"We are the same age.\")"
   ]
  },
  {
   "cell_type": "code",
   "execution_count": null,
   "id": "b5187d4d",
   "metadata": {},
   "outputs": [],
   "source": [
    "# Exercise 3: Compare two numbers\n",
    "a = int(input(\"Enter number one: \"))\n",
    "b = int(input(\"Enter number two: \"))\n",
    "if a > b:\n",
    "    print(f\"{a} is greater than {b}\")\n",
    "elif a < b:\n",
    "    print(f\"{a} is smaller than {b}\")\n",
    "else:\n",
    "    print(f\"{a} is equal to {b}\")"
   ]
  },
  {
   "cell_type": "markdown",
   "id": "fe4a63a0",
   "metadata": {},
   "source": [
    "### Level 2 Conditionals Exercises  "
   ]
  },
  {
   "cell_type": "code",
   "execution_count": null,
   "id": "2b4fef6f",
   "metadata": {},
   "outputs": [],
   "source": [
    "# Exercise 1: Grade assignment\n",
    "score = int(input(\"Enter the student's score: \"))\n",
    "if 80 <= score <= 100:\n",
    "    print(\"Grade: A\")\n",
    "elif 70 <= score <= 89:\n",
    "    print(\"Grade: B\")\n",
    "elif 60 <= score <= 69:\n",
    "    print(\"Grade: C\")\n",
    "elif 50 <= score <= 59:\n",
    "    print(\"Grade: D\")\n",
    "else:\n",
    "    print(\"Grade: F\")"
   ]
  },
  {
   "cell_type": "code",
   "execution_count": null,
   "id": "5fa348b6",
   "metadata": {},
   "outputs": [],
   "source": [
    "# Exercise 2: Season check\n",
    "month = input(\"Enter the month: \").lower()\n",
    "if month in ['september', 'october', 'november']:\n",
    "    print(\"The season is Autumn.\")\n",
    "elif month in ['december', 'january', 'february']:\n",
    "    print(\"The season is Winter.\")\n",
    "elif month in ['march', 'april', 'may']:\n",
    "    print(\"The season is Spring.\")\n",
    "elif month in ['june', 'july', 'august']:\n",
    "    print(\"The season is Summer.\")\n",
    "else:\n",
    "    print(\"Invalid month input.\")\n"
   ]
  },
  {
   "cell_type": "code",
   "execution_count": null,
   "id": "a5190cd9",
   "metadata": {},
   "outputs": [],
   "source": [
    "# Exercise 3: Add fruit to list\n",
    "fruits = ['banana', 'orange', 'mango', 'lemon']\n",
    "fruit = input(\"Enter the fruit to check: \").lower()\n",
    "if fruit not in fruits:\n",
    "    fruits.append(fruit)\n",
    "    print(\"Updated fruit list:\", fruits)\n",
    "else:\n",
    "    print(\"That fruit already exists in the list.\")\n"
   ]
  },
  {
   "cell_type": "markdown",
   "id": "76229f7f",
   "metadata": {},
   "source": [
    "### Level 3 Conditionals Exercises  "
   ]
  },
  {
   "cell_type": "code",
   "execution_count": 12,
   "id": "f3b4bb9e",
   "metadata": {},
   "outputs": [
    {
     "name": "stdout",
     "output_type": "stream",
     "text": [
      "The middle skill is: Node\n"
     ]
    }
   ],
   "source": [
    "# Exercise 1: Check middle skill\n",
    "person = {\n",
    "    'first_name': 'Asabeneh',\n",
    "    'last_name': 'Yetayeh',\n",
    "    'age': 250,\n",
    "    'country': 'Finland',\n",
    "    'is_married': True,\n",
    "    'skills': ['JavaScript', 'React', 'Node', 'MongoDB', 'Python'],\n",
    "    'address': {\n",
    "        'street': 'Space street',\n",
    "        'zipcode': '02210'\n",
    "    }\n",
    "}\n",
    "if 'skills' in person:\n",
    "    middle_skill = person['skills'][len(person['skills']) // 2]\n",
    "    print(f\"The middle skill is: {middle_skill}\")\n"
   ]
  },
  {
   "cell_type": "code",
   "execution_count": null,
   "id": "8b654b66",
   "metadata": {},
   "outputs": [],
   "source": [
    "# Exercise 2: Check if Python skill exists\n",
    "if 'skills' in person and 'Python' in person['skills']:\n",
    "    print(\"Python skill exists in the skills list.\")\n"
   ]
  },
  {
   "cell_type": "code",
   "execution_count": null,
   "id": "ea1658d2",
   "metadata": {},
   "outputs": [],
   "source": [
    "# Exercise 3: Identify job title based on skills\n",
    "if 'skills' in person:\n",
    "    skills = person['skills']\n",
    "    if 'JavaScript' in skills and 'React' in skills and len(skills) == 2:\n",
    "        print(\"He is a front end developer.\")\n",
    "    elif 'Node' in skills and 'Python' in skills and 'MongoDB' in skills:\n",
    "        print(\"He is a backend developer.\")\n",
    "    elif 'React' in skills and 'Node' in skills and 'MongoDB' in skills:\n",
    "        print(\"He is a fullstack developer.\")\n",
    "    else:\n",
    "        print(\"Unknown title.\")\n"
   ]
  },
  {
   "cell_type": "code",
   "execution_count": null,
   "id": "b8a27644",
   "metadata": {},
   "outputs": [],
   "source": [
    "# Exercise 4: Check marital status and location\n",
    "if person['is_married'] and person['country'] == 'Finland':\n",
    "    print(f\"{person['first_name']} {person['last_name']} lives in {person['country']}. He is married.\")\n"
   ]
  }
 ],
 "metadata": {
  "kernelspec": {
   "display_name": "Python 3",
   "language": "python",
   "name": "python3"
  },
  "language_info": {
   "codemirror_mode": {
    "name": "ipython",
    "version": 3
   },
   "file_extension": ".py",
   "mimetype": "text/x-python",
   "name": "python",
   "nbconvert_exporter": "python",
   "pygments_lexer": "ipython3",
   "version": "3.12.8"
  }
 },
 "nbformat": 4,
 "nbformat_minor": 5
}
