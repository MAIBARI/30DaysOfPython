{
 "cells": [
  {
   "cell_type": "markdown",
   "id": "e74733e3",
   "metadata": {},
   "source": [
    "# Exercises - Module 3\n",
    "This notebook contains Python exercises for Module 3."
   ]
  },
  {
   "cell_type": "code",
   "execution_count": 2,
   "id": "1542ad1e",
   "metadata": {},
   "outputs": [],
   "source": [
    "# Declare variables\n",
    "age = 30  # Example age\n",
    "height = 5.9  # Example height in feet\n",
    "complex_number = 2 + 3j  # Example complex number"
   ]
  },
  {
   "cell_type": "code",
   "execution_count": null,
   "id": "eecec121",
   "metadata": {},
   "outputs": [],
   "source": [
    "# Write a script that prompts the user to enter base and height of the triangle and calculate an area of this triangle (area = 0.5 x b x h).\n",
    "base = float(input(\"Enter base of the triangle: \"))\n",
    "height = float(input(\"Enter height of the triangle: \"))\n",
    "area_of_triangle = 0.5 * base * height\n",
    "print(f\"The area of the triangle is {area_of_triangle}\")"
   ]
  },
  {
   "cell_type": "code",
   "execution_count": null,
   "id": "e5fae148",
   "metadata": {},
   "outputs": [],
   "source": [
    "# Write a script that prompts the user to enter side a, side b, and side c of the triangle. Calculate the perimeter of the triangle (perimeter = a + b + c).\n",
    "a = float(input(\"Enter side a: \"))\n",
    "b = float(input(\"Enter side b: \"))\n",
    "c = float(input(\"Enter side c: \"))\n",
    "perimeter_of_triangle = a + b + c\n",
    "print(f\"The perimeter of the triangle is {perimeter_of_triangle}\")"
   ]
  },
  {
   "cell_type": "code",
   "execution_count": null,
   "id": "9edfbcbc",
   "metadata": {},
   "outputs": [],
   "source": [
    "# Get length and width of a rectangle using prompt. Calculate its area (area = length x width) and perimeter (perimeter = 2 x (length + width))\n",
    "length = float(input(\"Enter length of the rectangle: \"))\n",
    "width = float(input(\"Enter width of the rectangle: \"))\n",
    "area_of_rectangle = length * width\n",
    "perimeter_of_rectangle = 2 * (length + width)\n",
    "print(f\"The area of the rectangle is {area_of_rectangle}\")\n",
    "print(f\"The perimeter of the rectangle is {perimeter_of_rectangle}\")"
   ]
  },
  {
   "cell_type": "code",
   "execution_count": null,
   "id": "05f54306",
   "metadata": {},
   "outputs": [],
   "source": [
    "# Get radius of a circle using prompt. Calculate the area (area = pi x r x r) and circumference (c = 2 x pi x r) where pi = 3.14.\n",
    "radius = float(input(\"Enter radius of the circle: \"))\n",
    "pi = 3.14\n",
    "area_of_circle = pi * radius**2\n",
    "circumference_of_circle = 2 * pi * radius\n",
    "print(f\"The area of the circle is {area_of_circle}\")\n",
    "print(f\"The circumference of the circle is {circumference_of_circle}\")"
   ]
  },
  {
   "cell_type": "code",
   "execution_count": null,
   "id": "260de575",
   "metadata": {},
   "outputs": [],
   "source": [
    "# Calculate the slope, x-intercept and y-intercept of y = 2x - 2\n",
    "slope = 2\n",
    "y_intercept = -2\n",
    "x_intercept = -y_intercept / slope\n",
    "print(f\"Slope: {slope}, x-intercept: {x_intercept}, y-intercept: {y_intercept}\")"
   ]
  },
  {
   "cell_type": "code",
   "execution_count": null,
   "id": "1d0259ab",
   "metadata": {},
   "outputs": [],
   "source": [
    "# Slope is (m = y2-y1/x2-x1). Find the slope and Euclidean distance between point (2, 2) and point (6, 10)\n",
    "x1, y1 = 2, 2\n",
    "x2, y2 = 6, 10\n",
    "slope_points = (y2 - y1) / (x2 - x1)\n",
    "euclidean_distance = ((x2 - x1)**2 + (y2 - y1)**2)**0.5\n",
    "print(f\"Slope between points: {slope_points}, Euclidean distance: {euclidean_distance}\")"
   ]
  },
  {
   "cell_type": "code",
   "execution_count": null,
   "id": "04a4f4c8",
   "metadata": {},
   "outputs": [],
   "source": [
    "# Compare the slopes in tasks 8 and 9.\n",
    "print(f\"Comparison of slopes: {slope} vs {slope_points}\")"
   ]
  },
  {
   "cell_type": "code",
   "execution_count": null,
   "id": "029f3d40",
   "metadata": {},
   "outputs": [],
   "source": [
    "# Calculate the value of y (y = x^2 + 6x + 9). Try to use different x values and figure out at what x value y is going to be 0.\n",
    "for x in range(-10, 11):  # Testing different x values\n",
    "    y = x**2 + 6*x + 9\n",
    "    if y == 0:\n",
    "        print(f\"y is 0 when x = {x}\")"
   ]
  },
  {
   "cell_type": "code",
   "execution_count": null,
   "id": "099d2f7b",
   "metadata": {},
   "outputs": [],
   "source": [
    "# Logical comparisons\n",
    "print(len(\"python\") != len(\"dragon\"))\n",
    "print('on' in 'python' and 'on' in 'dragon')\n",
    "sentence = \"I hope this course is not full of jargon.\"\n",
    "print('jargon' in sentence)\n",
    "print('on' not in 'python' and 'on' not in 'dragon')"
   ]
  },
  {
   "cell_type": "code",
   "execution_count": null,
   "id": "91ee4dc2",
   "metadata": {},
   "outputs": [],
   "source": [
    "# Find the length of the text python and convert the value to float and convert it to string\n",
    "length_python = len(\"python\")\n",
    "length_python_float = float(length_python)\n",
    "length_python_str = str(length_python_float)\n",
    "print(f\"Length of 'python' as float: {length_python_float}, as string: {length_python_str}\")"
   ]
  },
  {
   "cell_type": "code",
   "execution_count": null,
   "id": "135ee9c5",
   "metadata": {},
   "outputs": [],
   "source": [
    "# Even number check\n",
    "num = int(input(\"Enter a number to check if it is even: \"))\n",
    "print(f\"The number {num} is even: {num % 2 == 0}\")"
   ]
  },
  {
   "cell_type": "code",
   "execution_count": null,
   "id": "8cf85ae3",
   "metadata": {},
   "outputs": [],
   "source": [
    "print(7 // 3 == int(2.7))\n",
    "print(type('10') == type(10))\n",
    "print(int(float('9.8')) == 10)"
   ]
  },
  {
   "cell_type": "code",
   "execution_count": null,
   "id": "c8dcf3e7",
   "metadata": {},
   "outputs": [],
   "source": [
    "# Weekly earning calculation\n",
    "hours = float(input(\"Enter hours worked: \"))\n",
    "rate_per_hour = float(input(\"Enter rate per hour: \"))\n",
    "weekly_earning = hours * rate_per_hour\n",
    "print(f\"Your weekly earning is {weekly_earning}\")"
   ]
  },
  {
   "cell_type": "code",
   "execution_count": null,
   "id": "39273e5b",
   "metadata": {},
   "outputs": [],
   "source": [
    "# Write a script that prompts the user to enter number of years. Calculate the number of seconds a person can live.\n",
    "years_lived = int(input(\"Enter number of years you have lived: \"))\n",
    "seconds_in_a_year = 365 * 24 * 60 * 60\n",
    "total_seconds_lived = years_lived * seconds_in_a_year\n",
    "print(f\"You have lived for {total_seconds_lived} seconds.\")"
   ]
  },
  {
   "cell_type": "code",
   "execution_count": null,
   "id": "c86c5047",
   "metadata": {},
   "outputs": [],
   "source": [
    "# Display table\n",
    "print(\"1 1 1 1 1\")\n",
    "print(\"2 1 2 4 8\")\n",
    "print(\"3 1 3 9 27\")\n",
    "print(\"4 1 4 16 64\")\n",
    "print(\"5 1 5 25 125\")"
   ]
  }
 ],
 "metadata": {
  "kernelspec": {
   "display_name": "Python 3",
   "language": "python",
   "name": "python3"
  },
  "language_info": {
   "codemirror_mode": {
    "name": "ipython",
    "version": 3
   },
   "file_extension": ".py",
   "mimetype": "text/x-python",
   "name": "python",
   "nbconvert_exporter": "python",
   "pygments_lexer": "ipython3",
   "version": "3.12.8"
  }
 },
 "nbformat": 4,
 "nbformat_minor": 5
}
