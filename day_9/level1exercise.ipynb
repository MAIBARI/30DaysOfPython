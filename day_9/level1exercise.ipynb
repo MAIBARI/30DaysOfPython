{
 "cells": [
  {
   "cell_type": "code",
   "execution_count": 2,
   "id": "fc7c733c",
   "metadata": {},
   "outputs": [
    {
     "name": "stdout",
     "output_type": "stream",
     "text": [
      "Sum: 9.0\n"
     ]
    }
   ],
   "source": [
    "# 1. Declare a function add_two_numbers. It takes two parameters and it returns a sum.\n",
    "def add_two_numbers(a, b):\n",
    "    return a + b\n",
    "\n",
    "num1 = float(input(\"Enter the first number: \"))\n",
    "num2 = float(input(\"Enter the second number: \"))\n",
    "print(\"Sum:\", add_two_numbers(num1, num2))\n"
   ]
  },
  {
   "cell_type": "code",
   "execution_count": 3,
   "id": "051e1086",
   "metadata": {},
   "outputs": [
    {
     "name": "stdout",
     "output_type": "stream",
     "text": [
      "Area of the circle: 50.26548245743669\n"
     ]
    }
   ],
   "source": [
    "# 2. Write a function that calculates area_of_circle.\n",
    "def area_of_circle(r):\n",
    "    return math.pi * r * r\n",
    "\n",
    "radius = float(input(\"Enter the radius of the circle: \"))\n",
    "print(\"Area of the circle:\", area_of_circle(radius))\n"
   ]
  },
  {
   "cell_type": "code",
   "execution_count": 4,
   "id": "2374d88c",
   "metadata": {},
   "outputs": [
    {
     "name": "stdout",
     "output_type": "stream",
     "text": [
      "Sum of numbers: 15.0\n"
     ]
    }
   ],
   "source": [
    "# 3. Write a function called add_all_nums.\n",
    "def add_all_nums(*args):\n",
    "    if all(isinstance(x, (int, float)) for x in args):\n",
    "        return sum(args)\n",
    "    else:\n",
    "        return \"All arguments must be numbers.\"\n",
    "\n",
    "numbers = input(\"Enter numbers separated by space: \").split()\n",
    "numbers = [float(num) for num in numbers]\n",
    "print(\"Sum of numbers:\", add_all_nums(*numbers))\n"
   ]
  },
  {
   "cell_type": "code",
   "execution_count": null,
   "id": "d02d3f92",
   "metadata": {},
   "outputs": [],
   "source": [
    "# 4. Write a function which converts °C to °F.\n",
    "def convert_celsius_to_fahrenheit(celsius):\n",
    "    return (celsius * 9/5) + 32\n",
    "\n",
    "celsius = float(input(\"Enter temperature in Celsius: \"))\n",
    "print(\"Temperature in Fahrenheit:\", convert_celsius_to_fahrenheit(celsius))\n"
   ]
  },
  {
   "cell_type": "code",
   "execution_count": 5,
   "id": "bcbcb6a1",
   "metadata": {},
   "outputs": [
    {
     "name": "stdout",
     "output_type": "stream",
     "text": [
      "Season: Spring\n"
     ]
    }
   ],
   "source": [
    "# 5. Write a function called check_season.\n",
    "def check_season(month):\n",
    "    seasons = {\n",
    "        \"Winter\": [\"December\", \"January\", \"February\"],\n",
    "        \"Spring\": [\"March\", \"April\", \"May\"],\n",
    "        \"Summer\": [\"June\", \"July\", \"August\"],\n",
    "        \"Autumn\": [\"September\", \"October\", \"November\"]\n",
    "    }\n",
    "    for season, months in seasons.items():\n",
    "        if month in months:\n",
    "            return season\n",
    "    return \"Invalid month\"\n",
    "\n",
    "month = input(\"Enter a month: \")\n",
    "print(\"Season:\", check_season(month))\n"
   ]
  },
  {
   "cell_type": "code",
   "execution_count": null,
   "id": "58dae87f",
   "metadata": {},
   "outputs": [],
   "source": [
    "# 6. Write a function called calculate_slope.\n",
    "def calculate_slope(x1, y1, x2, y2):\n",
    "    if x2 - x1 == 0:\n",
    "        return \"Slope is undefined.\"\n",
    "    return (y2 - y1) / (x2 - x1)\n",
    "\n",
    "x1 = float(input(\"Enter x1: \"))\n",
    "y1 = float(input(\"Enter y1: \"))\n",
    "x2 = float(input(\"Enter x2: \"))\n",
    "y2 = float(input(\"Enter y2: \"))\n",
    "print(\"Slope:\", calculate_slope(x1, y1, x2, y2))\n"
   ]
  },
  {
   "cell_type": "code",
   "execution_count": 6,
   "id": "36e58a07",
   "metadata": {},
   "outputs": [
    {
     "name": "stdout",
     "output_type": "stream",
     "text": [
      "Solutions: No real solutions\n"
     ]
    }
   ],
   "source": [
    "# 7. Write a function which calculates the solution set of a quadratic equation.\n",
    "def solve_quadratic_eqn(a, b, c):\n",
    "    discriminant = b**2 - 4*a*c\n",
    "    if discriminant < 0:\n",
    "        return \"No real solutions\"\n",
    "    elif discriminant == 0:\n",
    "        x = -b / (2 * a)\n",
    "        return [x]\n",
    "    else:\n",
    "        x1 = (-b + math.sqrt(discriminant)) / (2 * a)\n",
    "        x2 = (-b - math.sqrt(discriminant)) / (2 * a)\n",
    "        return [x1, x2]\n",
    "\n",
    "a = float(input(\"Enter coefficient a: \"))\n",
    "b = float(input(\"Enter coefficient b: \"))\n",
    "c = float(input(\"Enter coefficient c: \"))\n",
    "print(\"Solutions:\", solve_quadratic_eqn(a, b, c))\n"
   ]
  },
  {
   "cell_type": "code",
   "execution_count": null,
   "id": "2797d1a3",
   "metadata": {},
   "outputs": [],
   "source": [
    "# 8. Declare a function named print_list.\n",
    "def print_list(lst):\n",
    "    for item in lst:\n",
    "        print(item)\n",
    "\n",
    "items = input(\"Enter items separated by space: \").split()\n",
    "print_list(items)\n"
   ]
  },
  {
   "cell_type": "code",
   "execution_count": null,
   "id": "cb300dfe",
   "metadata": {},
   "outputs": [],
   "source": [
    "# 9. Declare a function named reverse_list.\n",
    "def reverse_list(array):\n",
    "    reversed_array = []\n",
    "    for i in range(len(array) - 1, -1, -1):\n",
    "        reversed_array.append(array[i])\n",
    "    return reversed_array\n",
    "\n",
    "array = input(\"Enter elements separated by space: \").split()\n",
    "print(\"Reversed list:\", reverse_list(array))\n"
   ]
  },
  {
   "cell_type": "code",
   "execution_count": null,
   "id": "8fe1451a",
   "metadata": {},
   "outputs": [],
   "source": [
    "# 10. Declare a function named capitalize_list_items.\n",
    "def capitalize_list_items(lst):\n",
    "    return [item.capitalize() for item in lst]\n",
    "\n",
    "items = input(\"Enter items separated by space: \").split()\n",
    "print(\"Capitalized list:\", capitalize_list_items(items))\n"
   ]
  },
  {
   "cell_type": "code",
   "execution_count": null,
   "id": "3e078d67",
   "metadata": {},
   "outputs": [],
   "source": [
    "# 11. Declare a function named add_item.\n",
    "def add_item(lst, item):\n",
    "    lst.append(item)\n",
    "    return lst\n",
    "\n",
    "items = input(\"Enter items separated by space: \").split()\n",
    "item_to_add = input(\"Enter item to add: \")\n",
    "print(\"Updated list:\", add_item(items, item_to_add))\n"
   ]
  },
  {
   "cell_type": "code",
   "execution_count": null,
   "id": "cae25493",
   "metadata": {},
   "outputs": [],
   "source": [
    "# 12. Declare a function named remove_item.\n",
    "def remove_item(lst, item):\n",
    "    if item in lst:\n",
    "        lst.remove(item)\n",
    "    return lst\n",
    "\n",
    "items = input(\"Enter items separated by space: \").split()\n",
    "item_to_remove = input(\"Enter item to remove: \")\n",
    "print(\"Updated list:\", remove_item(items, item_to_remove))\n"
   ]
  },
  {
   "cell_type": "code",
   "execution_count": null,
   "id": "5ea6eafa",
   "metadata": {},
   "outputs": [],
   "source": [
    "# 13. Declare a function named sum_of_numbers.\n",
    "def sum_of_numbers(n):\n",
    "    return sum(range(1, n + 1))\n",
    "\n",
    "n = int(input(\"Enter a number: \"))\n",
    "print(\"Sum of numbers:\", sum_of_numbers(n))\n"
   ]
  },
  {
   "cell_type": "code",
   "execution_count": null,
   "id": "0614aab4",
   "metadata": {},
   "outputs": [],
   "source": [
    "# 14. Declare a function named sum_of_odds.\n",
    "def sum_of_odds(n):\n",
    "    return sum(i for i in range(1, n + 1) if i % 2 != 0)\n",
    "\n",
    "n = int(input(\"Enter a number: \"))\n",
    "print(\"Sum of odd numbers:\", sum_of_odds(n))\n"
   ]
  },
  {
   "cell_type": "code",
   "execution_count": null,
   "id": "8552d137",
   "metadata": {},
   "outputs": [],
   "source": [
    "# 15. Declare a function named sum_of_even.\n",
    "def sum_of_even(n):\n",
    "    return sum(i for i in range(1, n + 1) if i % 2 == 0)\n",
    "\n",
    "n = int(input(\"Enter a number: \"))\n",
    "print(\"Sum of even numbers:\", sum_of_even(n))\n"
   ]
  }
 ],
 "metadata": {
  "kernelspec": {
   "display_name": "Python 3",
   "language": "python",
   "name": "python3"
  },
  "language_info": {
   "codemirror_mode": {
    "name": "ipython",
    "version": 3
   },
   "file_extension": ".py",
   "mimetype": "text/x-python",
   "name": "python",
   "nbconvert_exporter": "python",
   "pygments_lexer": "ipython3",
   "version": "3.12.8"
  }
 },
 "nbformat": 4,
 "nbformat_minor": 5
}
