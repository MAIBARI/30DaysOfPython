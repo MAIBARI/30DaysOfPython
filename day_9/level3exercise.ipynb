{
 "cells": [
  {
   "cell_type": "code",
   "execution_count": 1,
   "id": "is-prime",
   "metadata": {},
   "outputs": [
    {
     "name": "stdout",
     "output_type": "stream",
     "text": [
      "True\n"
     ]
    }
   ],
   "source": [
    "import math\n",
    "from collections import Counter\n",
    "\n",
    "# 1. Write a function called is_prime, which checks if a number is prime.\n",
    "def is_prime(num):\n",
    "    if num <= 1:\n",
    "        return False\n",
    "    for i in range(2, int(math.sqrt(num)) + 1):\n",
    "        if num % i == 0:\n",
    "            return False\n",
    "    return True\n",
    "\n",
    "print(is_prime(29))  # Example usage"
   ]
  },
  {
   "cell_type": "code",
   "execution_count": 2,
   "id": "unique-items",
   "metadata": {},
   "outputs": [
    {
     "name": "stdout",
     "output_type": "stream",
     "text": [
      "True\n"
     ]
    }
   ],
   "source": [
    "# 2. Write a function which checks if all items are unique in the list.\n",
    "def are_items_unique(lst):\n",
    "    return len(lst) == len(set(lst))\n",
    "\n",
    "print(are_items_unique([1, 2, 3, 4, 5]))  # Example usage"
   ]
  },
  {
   "cell_type": "code",
   "execution_count": 3,
   "id": "same-type",
   "metadata": {},
   "outputs": [
    {
     "name": "stdout",
     "output_type": "stream",
     "text": [
      "True\n"
     ]
    }
   ],
   "source": [
    "# 3. Write a function which checks if all the items of the list are of the same data type.\n",
    "def are_items_same_type(lst):\n",
    "    return all(isinstance(item, type(lst[0])) for item in lst)\n",
    "\n",
    "print(are_items_same_type([1, 2, 3, 4]))  # Example usage"
   ]
  },
  {
   "cell_type": "code",
   "execution_count": 4,
   "id": "valid-variable",
   "metadata": {},
   "outputs": [
    {
     "name": "stdout",
     "output_type": "stream",
     "text": [
      "True\n"
     ]
    }
   ],
   "source": [
    "# 4. Write a function which checks if provided variable is a valid python variable.\n",
    "def is_valid_variable(var):\n",
    "    import keyword\n",
    "    if not var.isidentifier() or keyword.iskeyword(var):\n",
    "        return False\n",
    "    return True\n",
    "\n",
    "print(is_valid_variable(\"variable_name\"))  # Example usage"
   ]
  },
  {
   "cell_type": "code",
   "execution_count": 5,
   "id": "most-spoken-languages",
   "metadata": {},
   "outputs": [
    {
     "name": "stdout",
     "output_type": "stream",
     "text": [
      "[('English', 91), ('French', 45), ('Arabic', 25), ('Spanish', 24), ('Portuguese', 9), ('Russian', 9), ('Dutch', 8), ('German', 7), ('Chinese', 5), ('Serbian', 4)]\n"
     ]
    }
   ],
   "source": [
    "# 5. Create a function called the most_spoken_languages in the world.\n",
    "from countries_data import countries_data\n",
    "\n",
    "def most_spoken_languages(n):\n",
    "    language_count = Counter()\n",
    "    for country in countries_data:\n",
    "        language_count.update(country[\"languages\"])\n",
    "    return language_count.most_common(n)\n",
    "\n",
    "print(most_spoken_languages(10))  # Example usage"
   ]
  },
  {
   "cell_type": "code",
   "execution_count": 6,
   "id": "most-populated-countries",
   "metadata": {},
   "outputs": [
    {
     "name": "stdout",
     "output_type": "stream",
     "text": [
      "[{'name': 'China', 'capital': 'Beijing', 'languages': ['Chinese'], 'population': 1377422166, 'flag': 'https://restcountries.eu/data/chn.svg', 'currency': 'Chinese yuan'}, {'name': 'India', 'capital': 'New Delhi', 'languages': ['Hindi', 'English'], 'population': 1295210000, 'flag': 'https://restcountries.eu/data/ind.svg', 'currency': 'Indian rupee'}, {'name': 'United States of America', 'capital': 'Washington, D.C.', 'languages': ['English'], 'population': 323947000, 'flag': 'https://restcountries.eu/data/usa.svg', 'currency': 'United States dollar'}, {'name': 'Indonesia', 'capital': 'Jakarta', 'languages': ['Indonesian'], 'population': 258705000, 'flag': 'https://restcountries.eu/data/idn.svg', 'currency': 'Indonesian rupiah'}, {'name': 'Brazil', 'capital': 'Brasília', 'languages': ['Portuguese'], 'population': 206135893, 'flag': 'https://restcountries.eu/data/bra.svg', 'currency': 'Brazilian real'}, {'name': 'Pakistan', 'capital': 'Islamabad', 'languages': ['English', 'Urdu'], 'population': 194125062, 'flag': 'https://restcountries.eu/data/pak.svg', 'currency': 'Pakistani rupee'}, {'name': 'Nigeria', 'capital': 'Abuja', 'languages': ['English'], 'population': 186988000, 'flag': 'https://restcountries.eu/data/nga.svg', 'currency': 'Nigerian naira'}, {'name': 'Bangladesh', 'capital': 'Dhaka', 'languages': ['Bengali'], 'population': 161006790, 'flag': 'https://restcountries.eu/data/bgd.svg', 'currency': 'Bangladeshi taka'}, {'name': 'Russian Federation', 'capital': 'Moscow', 'languages': ['Russian'], 'population': 146599183, 'flag': 'https://restcountries.eu/data/rus.svg', 'currency': 'Russian ruble'}, {'name': 'Japan', 'capital': 'Tokyo', 'languages': ['Japanese'], 'population': 126960000, 'flag': 'https://restcountries.eu/data/jpn.svg', 'currency': 'Japanese yen'}]\n"
     ]
    }
   ],
   "source": [
    "# 6. Create a function called the most_populated_countries.\n",
    "def most_populated_countries(n):\n",
    "    sorted_countries = sorted(countries_data, key=lambda x: x[\"population\"], reverse=True)\n",
    "    return sorted_countries[:n]\n",
    "\n",
    "print(most_populated_countries(10))  # Example usage"
   ]
  }
 ],
 "metadata": {
  "kernelspec": {
   "display_name": "Python 3",
   "language": "python",
   "name": "python3"
  },
  "language_info": {
   "codemirror_mode": {
    "name": "ipython",
    "version": 3
   },
   "file_extension": ".py",
   "mimetype": "text/x-python",
   "name": "python",
   "nbconvert_exporter": "python",
   "pygments_lexer": "ipython3",
   "version": "3.12.8"
  }
 },
 "nbformat": 4,
 "nbformat_minor": 5
}
