{
 "cells": [
  {
   "cell_type": "markdown",
   "metadata": {},
   "source": [
    "# Exercise: Level 1"
   ]
  },
  {
   "cell_type": "markdown",
   "metadata": {},
   "source": [
    "### Question 1: Check the python version you are using"
   ]
  },
  {
   "cell_type": "code",
   "execution_count": 9,
   "id": "7b1adfdd",
   "metadata": {},
   "outputs": [
    {
     "name": "stdout",
     "output_type": "stream",
     "text": [
      "3.12.8 (tags/v3.12.8:2dc476b, Dec  3 2024, 19:30:04) [MSC v.1942 64 bit (AMD64)]\n"
     ]
    }
   ],
   "source": [
    "# Solution:\n",
    "import sys\n",
    "print(sys.version)"
   ]
  },
  {
   "cell_type": "markdown",
   "id": "5004ba60",
   "metadata": {},
   "source": [
    "### Question 2: Open the python interactive shell and perform operations on operands 3 and 4"
   ]
  },
  {
   "cell_type": "code",
   "execution_count": 10,
   "id": "706acdac",
   "metadata": {},
   "outputs": [
    {
     "name": "stdout",
     "output_type": "stream",
     "text": [
      "7\n",
      "-1\n",
      "12\n",
      "3\n",
      "0.75\n",
      "81\n",
      "0\n"
     ]
    }
   ],
   "source": [
    "# Solution:\n",
    "a = 3\n",
    "b = 4\n",
    "\n",
    "# Addition\n",
    "print(a + b)  # 7\n",
    "\n",
    "# Subtraction\n",
    "print(a - b)  # -1\n",
    "\n",
    "# Multiplication\n",
    "print(a * b)  # 12\n",
    "\n",
    "# Modulus\n",
    "print(a % b)  # 3\n",
    "\n",
    "# Division\n",
    "print(a / b)  # 0.75\n",
    "\n",
    "# Exponential\n",
    "print(a ** b)  # 81\n",
    "\n",
    "# Floor Division\n",
    "print(a // b)  # 0"
   ]
  },
  {
   "cell_type": "markdown",
   "id": "4e0c2e7b",
   "metadata": {},
   "source": [
    "### Question 3: Write strings and print their values"
   ]
  },
  {
   "cell_type": "code",
   "execution_count": 11,
   "id": "287bcc93",
   "metadata": {},
   "outputs": [
    {
     "name": "stdout",
     "output_type": "stream",
     "text": [
      "Mustapha Ashiru Bari\n",
      "Bari\n",
      "Nigeria\n",
      "I am enjoying 30 days of Python\n"
     ]
    }
   ],
   "source": [
    "# Solution:\n",
    "my_name = \"Mustapha Ashiru Bari\"\n",
    "my_family_name = \"Bari\"\n",
    "my_country = \"Nigeria\"\n",
    "text = \"I am enjoying 30 days of Python\"\n",
    "\n",
    "# Outputs\n",
    "print(my_name)           # Mustapha Ashiru Bari\n",
    "print(my_family_name)    # Bari\n",
    "print(my_country)        # Nigeria\n",
    "print(text)              # I am enjoying 30 days of Python"
   ]
  },
  {
   "cell_type": "markdown",
   "id": "1123e750",
   "metadata": {},
   "source": [
    "### Question 4: Check the data types of various data"
   ]
  },
  {
   "cell_type": "code",
   "execution_count": 6,
   "id": "6da22546",
   "metadata": {},
   "outputs": [
    {
     "name": "stdout",
     "output_type": "stream",
     "text": [
      "<class 'int'>\n",
      "<class 'float'>\n",
      "<class 'float'>\n",
      "<class 'complex'>\n",
      "<class 'list'>\n",
      "<class 'str'>\n",
      "<class 'str'>\n",
      "<class 'str'>\n"
     ]
    }
   ],
   "source": [
    "# Solution:\n",
    "print(type(10))                               # <class 'int'>\n",
    "print(type(9.8))                              # <class 'float'>\n",
    "print(type(3.14))                             # <class 'float'>\n",
    "print(type(4 - 4j))                           # <class 'complex'>\n",
    "print(type(['Asabeneh', 'Python', 'Finland'])) # <class 'list'>\n",
    "print(type('Your name'))                      # <class 'str'>\n",
    "print(type('Your family name'))               # <class 'str'>\n",
    "print(type('Your country'))                   # <class 'str'>"
   ]
  },
  {
   "cell_type": "markdown",
   "id": "4658f7b2",
   "metadata": {},
   "source": [
    "# Exercise: Level 2"
   ]
  },
  {
   "cell_type": "markdown",
   "id": "ad4fb5f5",
   "metadata": {},
   "source": [
    "### Question 1: Create a folder named `day_1` inside the `30DaysOfPython` folder"
   ]
  },
  {
   "cell_type": "markdown",
   "id": "59eed50d",
   "metadata": {},
   "source": [
    "### Question 2: Inside the `day_1` folder, create a Python file named `helloworld.py` and repeat solutions for Level 1, Questions 1–4"
   ]
  },
  {
   "cell_type": "markdown",
   "id": "f1ee9e02",
   "metadata": {},
   "source": [
    "### Question 3: Use print() for all outputs in the Python file"
   ]
  },
  {
   "cell_type": "markdown",
   "id": "8c3c91c6",
   "metadata": {},
   "source": [
    "### Question 4: Navigate to the directory where your file is saved and run it using `python helloworld.py`"
   ]
  },
  {
   "cell_type": "markdown",
   "id": "a0b49c1b",
   "metadata": {},
   "source": [
    "# Exercise: Level 3"
   ]
  },
  {
   "cell_type": "markdown",
   "id": "86b13051",
   "metadata": {},
   "source": [
    "### Question 1: Write examples for Python data types"
   ]
  },
  {
   "cell_type": "code",
   "execution_count": 12,
   "id": "8b7f07f0",
   "metadata": {},
   "outputs": [
    {
     "name": "stdout",
     "output_type": "stream",
     "text": [
      "3\n",
      "3.142\n",
      "16j\n",
      "Bismillahirrahmanirrahim, Astaghfirullah\n",
      "True\n",
      "['Books', 7, 'Biro']\n",
      "('one', 'two', 'three')\n",
      "{1, 5, 9}\n",
      "{'python': 300, 'days': 30}\n"
     ]
    }
   ],
   "source": [
    "# Solution:\n",
    "# Numbers\n",
    "integer_example = 3\n",
    "float_example = 3.142\n",
    "complex_example = 4 * 4j\n",
    "\n",
    "# String\n",
    "string_example = \"Bismillahirrahmanirrahim, Astaghfirullah\"\n",
    "\n",
    "# Boolean\n",
    "boolean_example = True\n",
    "\n",
    "# List\n",
    "list_example = ['Books', 7, 'Biro']\n",
    "\n",
    "# Tuple\n",
    "tuple_example = ('one', 'two', 'three')\n",
    "\n",
    "# Set\n",
    "set_example = {1, 5, 9}\n",
    "\n",
    "# Dictionary\n",
    "dictionary_example = {'python': 300, 'days': 30}\n",
    "\n",
    "# Outputs\n",
    "print(integer_example)\n",
    "print(float_example)\n",
    "print(complex_example)\n",
    "print(string_example)\n",
    "print(boolean_example)\n",
    "print(list_example)\n",
    "print(tuple_example)\n",
    "print(set_example)\n",
    "print(dictionary_example)"
   ]
  },
  {
   "cell_type": "markdown",
   "id": "22de0386",
   "metadata": {},
   "source": [
    "### Question 2: Find the Euclidean distance between (2, 3) and (10, 8)"
   ]
  },
  {
   "cell_type": "code",
   "execution_count": 8,
   "id": "1791b99b",
   "metadata": {},
   "outputs": [
    {
     "name": "stdout",
     "output_type": "stream",
     "text": [
      "Euclidean Distance = 9.433981132056603\n"
     ]
    }
   ],
   "source": [
    "# Solution:\n",
    "import numpy as np\n",
    "\n",
    "# Points\n",
    "point_1 = [2, 3]\n",
    "point_2 = [10, 8]\n",
    "\n",
    "# Calculate Euclidean distance\n",
    "distance = np.sqrt((point_2[0] - point_1[0])**2 + (point_2[1] - point_1[1])**2)\n",
    "\n",
    "# Output\n",
    "print(\"Euclidean Distance =\", distance)  # Euclidean Distance = 9.433981132056603"
   ]
  }
 ],
 "metadata": {
  "kernelspec": {
   "display_name": "Python 3",
   "language": "python",
   "name": "python3"
  },
  "language_info": {
   "codemirror_mode": {
    "name": "ipython",
    "version": 3
   },
   "file_extension": ".py",
   "mimetype": "text/x-python",
   "name": "python",
   "nbconvert_exporter": "python",
   "pygments_lexer": "ipython3",
   "version": "3.12.8"
  }
 },
 "nbformat": 4,
 "nbformat_minor": 5
}
