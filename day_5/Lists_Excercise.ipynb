{
 "cells": [
  {
   "cell_type": "markdown",
   "id": "8c51b277",
   "metadata": {},
   "source": [
    "### Exercise Level 1 solutions"
   ]
  },
  {
   "cell_type": "code",
   "execution_count": 29,
   "id": "1d91c13f",
   "metadata": {},
   "outputs": [],
   "source": [
    "# Declare an empty list\n",
    "empty_list = []\n"
   ]
  },
  {
   "cell_type": "code",
   "execution_count": 30,
   "id": "d732f11a",
   "metadata": {},
   "outputs": [],
   "source": [
    "# Declare a list with more than 5 items\n",
    "sample_list = [1, 2, 3, 4, 5, 6, 7]\n"
   ]
  },
  {
   "cell_type": "code",
   "execution_count": 31,
   "id": "b76142fd",
   "metadata": {},
   "outputs": [
    {
     "name": "stdout",
     "output_type": "stream",
     "text": [
      "7\n"
     ]
    }
   ],
   "source": [
    "# Find the length of your list\n",
    "length_of_list = len(sample_list)\n",
    "print(length_of_list)"
   ]
  },
  {
   "cell_type": "code",
   "execution_count": 32,
   "id": "90c238e3",
   "metadata": {},
   "outputs": [
    {
     "name": "stdout",
     "output_type": "stream",
     "text": [
      "1 4 7\n"
     ]
    }
   ],
   "source": [
    "# Get the first item, the middle item, and the last item of the list\n",
    "first_item = sample_list[0]\n",
    "middle_item = sample_list[len(sample_list) // 2]\n",
    "last_item = sample_list[-1]\n",
    "print(first_item, middle_item, last_item)"
   ]
  },
  {
   "cell_type": "code",
   "execution_count": 33,
   "id": "02de0c7f",
   "metadata": {},
   "outputs": [],
   "source": [
    "# Declare a list called mixed_data_types\n",
    "mixed_data_types = [\"John Doe\", 30, 5.8, \"Single\", \"123 Main St\"]\n"
   ]
  },
  {
   "cell_type": "code",
   "execution_count": 34,
   "id": "8a32a00e",
   "metadata": {},
   "outputs": [
    {
     "name": "stdout",
     "output_type": "stream",
     "text": [
      "['Facebook', 'Google', 'Microsoft', 'Apple', 'IBM', 'Oracle', 'Amazon']\n"
     ]
    }
   ],
   "source": [
    "# Declare a list variable named it_companies\n",
    "it_companies = [\"Facebook\", \"Google\", \"Microsoft\", \"Apple\", \"IBM\", \"Oracle\", \"Amazon\"]\n",
    "print(it_companies)"
   ]
  },
  {
   "cell_type": "code",
   "execution_count": 35,
   "id": "b4459ee3",
   "metadata": {},
   "outputs": [
    {
     "name": "stdout",
     "output_type": "stream",
     "text": [
      "7\n"
     ]
    }
   ],
   "source": [
    "# Print the number of companies in the list\n",
    "number_of_companies = len(it_companies)\n",
    "print(number_of_companies)"
   ]
  },
  {
   "cell_type": "code",
   "execution_count": 36,
   "id": "31442c22",
   "metadata": {},
   "outputs": [
    {
     "name": "stdout",
     "output_type": "stream",
     "text": [
      "Facebook Apple Amazon\n"
     ]
    }
   ],
   "source": [
    "# Print the first, middle, and last company\n",
    "first_company = it_companies[0]\n",
    "middle_company = it_companies[len(it_companies) // 2]\n",
    "last_company = it_companies[-1]\n",
    "print(first_company, middle_company, last_company)"
   ]
  },
  {
   "cell_type": "code",
   "execution_count": 37,
   "id": "453623bb",
   "metadata": {},
   "outputs": [
    {
     "name": "stdout",
     "output_type": "stream",
     "text": [
      "['Facebook', 'Alphabet', 'Microsoft', 'Apple', 'IBM', 'Oracle', 'Amazon']\n"
     ]
    }
   ],
   "source": [
    "# Print the list after modifying one of the companies\n",
    "it_companies[1] = \"Alphabet\"\n",
    "print(it_companies)"
   ]
  },
  {
   "cell_type": "code",
   "execution_count": 38,
   "id": "d2a65c07",
   "metadata": {},
   "outputs": [
    {
     "name": "stdout",
     "output_type": "stream",
     "text": [
      "['Facebook', 'Alphabet', 'Microsoft', 'Apple', 'IBM', 'Oracle', 'Amazon', 'Netflix']\n"
     ]
    }
   ],
   "source": [
    "# Add an IT company to it_companies\n",
    "it_companies.append(\"Netflix\")\n",
    "print(it_companies)"
   ]
  },
  {
   "cell_type": "code",
   "execution_count": 39,
   "id": "b30239d3",
   "metadata": {},
   "outputs": [
    {
     "name": "stdout",
     "output_type": "stream",
     "text": [
      "['Facebook', 'Alphabet', 'Microsoft', 'Apple', 'Tesla', 'IBM', 'Oracle', 'Amazon', 'Netflix']\n"
     ]
    }
   ],
   "source": [
    "# Insert an IT company in the middle of the companies list\n",
    "it_companies.insert(len(it_companies) // 2, \"Tesla\")\n",
    "print(it_companies)"
   ]
  },
  {
   "cell_type": "code",
   "execution_count": 40,
   "id": "d7fe2e0e",
   "metadata": {},
   "outputs": [
    {
     "name": "stdout",
     "output_type": "stream",
     "text": [
      "['FACEBOOK', 'Alphabet', 'Microsoft', 'Apple', 'Tesla', 'IBM', 'Oracle', 'Amazon', 'Netflix']\n"
     ]
    }
   ],
   "source": [
    "# Change one of the it_companies names to uppercase (excluding IBM)\n",
    "it_companies[0] = it_companies[0].upper()\n",
    "print(it_companies)"
   ]
  },
  {
   "cell_type": "code",
   "execution_count": 41,
   "id": "2cf56c42",
   "metadata": {},
   "outputs": [
    {
     "name": "stdout",
     "output_type": "stream",
     "text": [
      "FACEBOOK#; Alphabet#; Microsoft#; Apple#; Tesla#; IBM#; Oracle#; Amazon#; Netflix\n"
     ]
    }
   ],
   "source": [
    "# Join the it_companies with a string '#; '\n",
    "joined_companies = \"#; \".join(it_companies)\n",
    "print(joined_companies)"
   ]
  },
  {
   "cell_type": "code",
   "execution_count": 42,
   "id": "eafad9fa",
   "metadata": {},
   "outputs": [
    {
     "name": "stdout",
     "output_type": "stream",
     "text": [
      "False\n"
     ]
    }
   ],
   "source": [
    "# Check if a certain company exists in the it_companies list\n",
    "company_exists = \"Google\" in it_companies\n",
    "print(company_exists)"
   ]
  },
  {
   "cell_type": "code",
   "execution_count": 43,
   "id": "38f0c6b9",
   "metadata": {},
   "outputs": [
    {
     "name": "stdout",
     "output_type": "stream",
     "text": [
      "['Alphabet', 'Amazon', 'Apple', 'FACEBOOK', 'IBM', 'Microsoft', 'Netflix', 'Oracle', 'Tesla']\n"
     ]
    }
   ],
   "source": [
    "# Sort the list using sort() method\n",
    "it_companies.sort()\n",
    "print(it_companies)"
   ]
  },
  {
   "cell_type": "code",
   "execution_count": 44,
   "id": "098fef5b",
   "metadata": {},
   "outputs": [
    {
     "name": "stdout",
     "output_type": "stream",
     "text": [
      "['Tesla', 'Oracle', 'Netflix', 'Microsoft', 'IBM', 'FACEBOOK', 'Apple', 'Amazon', 'Alphabet']\n"
     ]
    }
   ],
   "source": [
    "# Reverse the list in descending order using reverse() method\n",
    "it_companies.reverse()\n",
    "print(it_companies)"
   ]
  },
  {
   "cell_type": "code",
   "execution_count": 45,
   "id": "d55b9c3d",
   "metadata": {},
   "outputs": [
    {
     "name": "stdout",
     "output_type": "stream",
     "text": [
      "['Tesla', 'Oracle', 'Netflix']\n"
     ]
    }
   ],
   "source": [
    "# Slice out the first 3 companies from the list\n",
    "first_three = it_companies[:3]\n",
    "print(first_three)"
   ]
  },
  {
   "cell_type": "code",
   "execution_count": 46,
   "id": "9f74e685",
   "metadata": {},
   "outputs": [
    {
     "name": "stdout",
     "output_type": "stream",
     "text": [
      "['Apple', 'Amazon', 'Alphabet']\n"
     ]
    }
   ],
   "source": [
    "# Slice out the last 3 companies from the list\n",
    "last_three = it_companies[-3:]\n",
    "print(last_three)"
   ]
  },
  {
   "cell_type": "code",
   "execution_count": 47,
   "id": "c2a9c9cf",
   "metadata": {},
   "outputs": [
    {
     "name": "stdout",
     "output_type": "stream",
     "text": [
      "['IBM']\n"
     ]
    }
   ],
   "source": [
    "# Slice out the middle IT company or companies from the list\n",
    "middle_start = len(it_companies) // 2\n",
    "middle_slice = it_companies[middle_start:middle_start+1] if len(it_companies) % 2 != 0 else it_companies[middle_start-1:middle_start+1]\n",
    "print(middle_slice)"
   ]
  },
  {
   "cell_type": "code",
   "execution_count": 48,
   "id": "ff58b42d",
   "metadata": {},
   "outputs": [
    {
     "name": "stdout",
     "output_type": "stream",
     "text": [
      "['Oracle', 'Netflix', 'Microsoft', 'IBM', 'FACEBOOK', 'Apple', 'Amazon', 'Alphabet']\n"
     ]
    }
   ],
   "source": [
    "# Remove the first IT company from the list\n",
    "it_companies.pop(0)\n",
    "print(it_companies)"
   ]
  },
  {
   "cell_type": "code",
   "execution_count": 49,
   "id": "f6ba11ad",
   "metadata": {},
   "outputs": [
    {
     "name": "stdout",
     "output_type": "stream",
     "text": [
      "['Oracle', 'Netflix', 'Microsoft', 'Apple', 'Amazon', 'Alphabet']\n"
     ]
    }
   ],
   "source": [
    "# Remove the middle IT company or companies from the list\n",
    "middle_index = len(it_companies) // 2\n",
    "if len(it_companies) % 2 != 0:\n",
    "    it_companies.pop(middle_index)\n",
    "else:\n",
    "    del it_companies[middle_index-1:middle_index+1]\n",
    "print(it_companies)"
   ]
  },
  {
   "cell_type": "code",
   "execution_count": 50,
   "id": "2cd9d5c3",
   "metadata": {},
   "outputs": [
    {
     "name": "stdout",
     "output_type": "stream",
     "text": [
      "['Oracle', 'Netflix', 'Microsoft', 'Apple', 'Amazon']\n"
     ]
    }
   ],
   "source": [
    "# Remove the last IT company from the list\n",
    "it_companies.pop()\n",
    "print(it_companies)"
   ]
  },
  {
   "cell_type": "code",
   "execution_count": 51,
   "id": "3bcd0f88",
   "metadata": {},
   "outputs": [
    {
     "name": "stdout",
     "output_type": "stream",
     "text": [
      "[]\n"
     ]
    }
   ],
   "source": [
    "# Remove all IT companies from the list\n",
    "it_companies.clear()\n",
    "print(it_companies)"
   ]
  },
  {
   "cell_type": "code",
   "execution_count": 52,
   "id": "5f93f83f",
   "metadata": {},
   "outputs": [],
   "source": [
    "# Destroy the IT companies list\n",
    "del it_companies\n"
   ]
  },
  {
   "cell_type": "code",
   "execution_count": 53,
   "id": "11062722",
   "metadata": {},
   "outputs": [
    {
     "name": "stdout",
     "output_type": "stream",
     "text": [
      "['HTML', 'CSS', 'JS', 'React', 'Redux', 'Node', 'Express', 'MongoDB']\n"
     ]
    }
   ],
   "source": [
    "# Join the following lists\n",
    "front_end = [\"HTML\", \"CSS\", \"JS\", \"React\", \"Redux\"]\n",
    "back_end = [\"Node\", \"Express\", \"MongoDB\"]\n",
    "joined_list = front_end + back_end\n",
    "print(joined_list)"
   ]
  },
  {
   "cell_type": "code",
   "execution_count": 54,
   "id": "6d5a0d65",
   "metadata": {},
   "outputs": [
    {
     "name": "stdout",
     "output_type": "stream",
     "text": [
      "['HTML', 'CSS', 'JS', 'React', 'Redux', 'Python', 'SQL', 'Node', 'Express', 'MongoDB']\n"
     ]
    }
   ],
   "source": [
    "# Copy the joined list and assign it to a variable full_stack, then insert Python and SQL after Redux\n",
    "full_stack = joined_list[:]\n",
    "redux_index = full_stack.index(\"Redux\")\n",
    "full_stack.insert(redux_index + 1, \"Python\")\n",
    "full_stack.insert(redux_index + 2, \"SQL\")\n",
    "print(full_stack)"
   ]
  },
  {
   "cell_type": "markdown",
   "id": "89e1b163",
   "metadata": {},
   "source": [
    "### Exercise Level 2 solutions"
   ]
  },
  {
   "cell_type": "code",
   "execution_count": 55,
   "id": "05ea5f6c",
   "metadata": {},
   "outputs": [
    {
     "name": "stdout",
     "output_type": "stream",
     "text": [
      "Sorted ages: [19, 19, 20, 22, 24, 24, 24, 25, 25, 26]\n"
     ]
    }
   ],
   "source": [
    "ages = [19, 22, 19, 24, 20, 25, 26, 24, 25, 24]\n",
    "ages.sort()\n",
    "print(\"Sorted ages:\", ages)"
   ]
  },
  {
   "cell_type": "code",
   "execution_count": 56,
   "id": "05bda9bd",
   "metadata": {},
   "outputs": [
    {
     "name": "stdout",
     "output_type": "stream",
     "text": [
      "Min age: 19\n",
      "Max age: 26\n"
     ]
    }
   ],
   "source": [
    "min_age = min(ages)\n",
    "max_age = max(ages)\n",
    "print(\"Min age:\", min_age)\n",
    "print(\"Max age:\", max_age)"
   ]
  },
  {
   "cell_type": "code",
   "execution_count": 57,
   "id": "2648b7c5",
   "metadata": {},
   "outputs": [],
   "source": [
    "ages.append(min_age)\n",
    "ages.append(max_age)"
   ]
  },
  {
   "cell_type": "code",
   "execution_count": 58,
   "id": "cd0741cc",
   "metadata": {},
   "outputs": [
    {
     "name": "stdout",
     "output_type": "stream",
     "text": [
      "Median age: 24.0\n"
     ]
    }
   ],
   "source": [
    "n = len(ages)\n",
    "if n % 2 == 0:\n",
    "    median_age = (ages[n//2 - 1] + ages[n//2]) / 2\n",
    "else:\n",
    "    median_age = ages[n//2]\n",
    "print(\"Median age:\", median_age)"
   ]
  },
  {
   "cell_type": "code",
   "execution_count": 59,
   "id": "17f8759b",
   "metadata": {},
   "outputs": [
    {
     "name": "stdout",
     "output_type": "stream",
     "text": [
      "Average age: 22.75\n"
     ]
    }
   ],
   "source": [
    "average_age = sum(ages) / len(ages)\n",
    "print(\"Average age:\", average_age)"
   ]
  },
  {
   "cell_type": "code",
   "execution_count": 60,
   "id": "3ca34e8e",
   "metadata": {},
   "outputs": [
    {
     "name": "stdout",
     "output_type": "stream",
     "text": [
      "Age range: 7\n"
     ]
    }
   ],
   "source": [
    "age_range = max_age - min_age\n",
    "print(\"Age range:\", age_range)"
   ]
  },
  {
   "cell_type": "code",
   "execution_count": 61,
   "id": "f7b5c2ee",
   "metadata": {},
   "outputs": [
    {
     "name": "stdout",
     "output_type": "stream",
     "text": [
      "Min diff from average: 3.75\n",
      "Max diff from average: 3.25\n"
     ]
    }
   ],
   "source": [
    "min_diff = abs(min_age - average_age)\n",
    "max_diff = abs(max_age - average_age)\n",
    "print(\"Min diff from average:\", min_diff)\n",
    "print(\"Max diff from average:\", max_diff)"
   ]
  },
  {
   "cell_type": "code",
   "execution_count": 62,
   "id": "d6bfca32",
   "metadata": {},
   "outputs": [
    {
     "name": "stdout",
     "output_type": "stream",
     "text": [
      "Middle countries): Finland\n"
     ]
    }
   ],
   "source": [
    "countries = ['China', 'Russia', 'USA', 'Finland', 'Sweden', 'Norway', 'Denmark']\n",
    "middle_index = len(countries) // 2\n",
    "if len(countries) % 2 == 0:\n",
    "    middle_countries = countries[middle_index-1:middle_index+1]\n",
    "else:\n",
    "    middle_countries = countries[middle_index]\n",
    "print(\"Middle countries):\", middle_countries)"
   ]
  },
  {
   "cell_type": "code",
   "execution_count": 63,
   "id": "e666a80d",
   "metadata": {},
   "outputs": [
    {
     "name": "stdout",
     "output_type": "stream",
     "text": [
      "First half of countries: ['China', 'Russia', 'USA', 'Finland']\n",
      "Second half of countries: ['Sweden', 'Norway', 'Denmark']\n"
     ]
    }
   ],
   "source": [
    "half_1 = countries[:middle_index + 1]\n",
    "half_2 = countries[middle_index + 1:]\n",
    "print(\"First half of countries:\", half_1)\n",
    "print(\"Second half of countries:\", half_2)"
   ]
  },
  {
   "cell_type": "code",
   "execution_count": 64,
   "id": "6f73de12",
   "metadata": {},
   "outputs": [
    {
     "name": "stdout",
     "output_type": "stream",
     "text": [
      "First three countries: China\n",
      "Scandic countries: ['Russia', 'USA', 'Finland', 'Sweden', 'Norway', 'Denmark']\n"
     ]
    }
   ],
   "source": [
    "first_three, *scandic_countries = countries\n",
    "print(\"First three countries:\", first_three)\n",
    "print(\"Scandic countries:\", scandic_countries)"
   ]
  }
 ],
 "metadata": {
  "kernelspec": {
   "display_name": "Python 3",
   "language": "python",
   "name": "python3"
  },
  "language_info": {
   "codemirror_mode": {
    "name": "ipython",
    "version": 3
   },
   "file_extension": ".py",
   "mimetype": "text/x-python",
   "name": "python",
   "nbconvert_exporter": "python",
   "pygments_lexer": "ipython3",
   "version": "3.12.8"
  }
 },
 "nbformat": 4,
 "nbformat_minor": 5
}
