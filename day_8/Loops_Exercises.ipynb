{
 "cells": [
  {
   "cell_type": "code",
   "execution_count": null,
   "id": "f54ed618",
   "metadata": {},
   "outputs": [],
   "source": [
    "# Exercise 1: Iterate 0 to 10 using for loop.\n",
    "for i in range(11):\n",
    "    print(i)\n"
   ]
  },
  {
   "cell_type": "code",
   "execution_count": null,
   "id": "f54ed619",
   "metadata": {},
   "outputs": [],
   "source": [
    "# Exercise 1: Iterate 0 to 10 using while loop.\n",
    "i = 0\n",
    "while i <= 10:\n",
    "    print(i)\n",
    "    i += 1\n"
   ]
  },
  {
   "cell_type": "code",
   "execution_count": null,
   "id": "f54ed620",
   "metadata": {},
   "outputs": [],
   "source": [
    "# Exercise 2: Iterate 10 to 0 using for loop.\n",
    "for i in range(10, -1, -1):\n",
    "    print(i)\n"
   ]
  },
  {
   "cell_type": "code",
   "execution_count": null,
   "id": "f54ed621",
   "metadata": {},
   "outputs": [],
   "source": [
    "# Exercise 2: Iterate 10 to 0 using while loop.\n",
    "i = 10\n",
    "while i >= 0:\n",
    "    print(i)\n",
    "    i -= 1\n"
   ]
  },
  {
   "cell_type": "code",
   "execution_count": null,
   "id": "f54ed622",
   "metadata": {},
   "outputs": [],
   "source": [
    "# Exercise 3: Write a loop that makes seven calls to print(), so we get a triangle.\n",
    "for i in range(1, 8):\n",
    "    print('#' * i)\n"
   ]
  },
  {
   "cell_type": "code",
   "execution_count": null,
   "id": "f54ed623",
   "metadata": {},
   "outputs": [],
   "source": [
    "# Exercise 4: Use nested loops to create an 8x8 pattern of #.\n",
    "for i in range(8):\n",
    "    for j in range(8):\n",
    "        print('#', end=' ')\n",
    "    print()\n"
   ]
  },
  {
   "cell_type": "code",
   "execution_count": null,
   "id": "f54ed624",
   "metadata": {},
   "outputs": [],
   "source": [
    "# Exercise 5: Print multiplication pattern.\n",
    "for i in range(11):\n",
    "    print(f\"{i} x {i} = {i * i}\")\n"
   ]
  },
  {
   "cell_type": "code",
   "execution_count": null,
   "id": "f54ed625",
   "metadata": {},
   "outputs": [],
   "source": [
    "# Exercise 6: Iterate through the list and print out the items.\n",
    "languages = ['Python', 'Numpy', 'Pandas', 'Django', 'Flask']\n",
    "for language in languages:\n",
    "    print(language)\n"
   ]
  },
  {
   "cell_type": "code",
   "execution_count": null,
   "id": "f54ed626",
   "metadata": {},
   "outputs": [],
   "source": [
    "# Exercise 7: Use for loop to iterate from 0 to 100 and print only even numbers.\n",
    "for i in range(0, 101, 2):\n",
    "    print(i)\n"
   ]
  },
  {
   "cell_type": "code",
   "execution_count": null,
   "id": "f54ed627",
   "metadata": {},
   "outputs": [],
   "source": [
    "# Exercise 8: Use for loop to iterate from 0 to 100 and print only odd numbers.\n",
    "for i in range(1, 101, 2):\n",
    "    print(i)\n"
   ]
  },
  {
   "cell_type": "code",
   "execution_count": null,
   "id": "f67cf320",
   "metadata": {},
   "outputs": [],
   "source": [
    "# Exercise 1 (Level 2): Sum of all numbers from 0 to 100.\n",
    "total_sum = 0\n",
    "for i in range(101):\n",
    "    total_sum += i\n",
    "print(f\"The sum of all numbers is {total_sum}\")\n"
   ]
  },
  {
   "cell_type": "code",
   "execution_count": null,
   "id": "f67cf321",
   "metadata": {},
   "outputs": [],
   "source": [
    "# Exercise 2 (Level 2): Sum of all evens and odds.\n",
    "sum_evens = 0\n",
    "sum_odds = 0\n",
    "for i in range(101):\n",
    "    if i % 2 == 0:\n",
    "        sum_evens += i\n",
    "    else:\n",
    "        sum_odds += i\n",
    "\n",
    "print(f\"The sum of all evens is {sum_evens}\")\n",
    "print(f\"The sum of all odds is {sum_odds}\")\n"
   ]
  },
  {
   "cell_type": "code",
   "execution_count": null,
   "id": "f77cf346",
   "metadata": {},
   "outputs": [],
   "source": [
    "# Exercise 1 (Level 3): Extract countries containing the word 'land'.\n",
    "from countries import countries\n",
    "land_countries = [country for country in countries if \"land\" in country.lower()]\n",
    "print(\"Countries containing 'land':\", land_countries)\n"
   ]
  },
  {
   "cell_type": "code",
   "execution_count": null,
   "id": "f77cf347",
   "metadata": {},
   "outputs": [],
   "source": [
    "# Exercise 2 (Level 3): Reverse the fruit list.\n",
    "fruits = ['banana', 'orange', 'mango', 'lemon']\n",
    "reversed_fruits = []\n",
    "for fruit in reversed(fruits):\n",
    "    reversed_fruits.append(fruit)\n",
    "print(\"Reversed fruits:\", reversed_fruits)\n"
   ]
  },
  {
   "cell_type": "code",
   "execution_count": null,
   "id": "f77cf348",
   "metadata": {},
   "outputs": [],
   "source": [
    "# Exercise 3 (Level 3) i: Find the total number of unique languages.\n",
    "from countries_data import countries_data\n",
    "unique_languages = set()\n",
    "for country in countries_data:\n",
    "    unique_languages.update(country['languages'])\n",
    "print(f\"Total number of languages: {len(unique_languages)}\")\n"
   ]
  },
  {
   "cell_type": "code",
   "execution_count": null,
   "id": "f77cf349",
   "metadata": {},
   "outputs": [],
   "source": [
    "# Exercise 3 (Level 3) ii: Find the ten most spoken languages.\n",
    "from collections import Counter\n",
    "from countries_data import countries_data\n",
    "language_counts = Counter()\n",
    "for country in countries_data:\n",
    "    language_counts.update(country['languages'])\n",
    "most_spoken_languages = language_counts.most_common(10)\n",
    "print(\"10 most spoken languages:\")\n",
    "for language, count in most_spoken_languages:\n",
    "    print(f\"{language}: {count}\")\n"
   ]
  },
  {
   "cell_type": "code",
   "execution_count": null,
   "id": "f77cf350",
   "metadata": {},
   "outputs": [],
   "source": [
    "# Exercise 3 (Level 3) iii: Find the 10 most populated countries.\n",
    "from countries_data import countries_data\n",
    "most_populated = sorted(countries_data, key=lambda x: x['population'], reverse=True)[:10]\n",
    "print(\"10 most populated countries:\")\n",
    "for country in most_populated:\n",
    "    print(f\"{country['name']}: {country['population']}\")\n"
   ]
  }
 ],
 "metadata": {
  "kernelspec": {
   "display_name": "Python 3",
   "language": "python",
   "name": "python3"
  },
  "language_info": {
   "codemirror_mode": {
    "name": "ipython",
    "version": 3
   },
   "file_extension": ".py",
   "mimetype": "text/x-python",
   "name": "python",
   "nbconvert_exporter": "python",
   "version": "3.8.5"
  }
 },
 "nbformat": 4,
 "nbformat_minor": 5
}
