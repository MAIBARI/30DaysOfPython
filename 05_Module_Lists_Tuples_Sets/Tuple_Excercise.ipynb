{
 "cells": [
  {
   "cell_type": "markdown",
   "id": "61a99d24",
   "metadata": {},
   "source": [
    "### Tuple Exercises: Level 1"
   ]
  },
  {
   "cell_type": "code",
   "execution_count": null,
   "id": "1",
   "metadata": {},
   "outputs": [],
   "source": [
    "# Create an empty tuple\n",
    "empty_tuple = ()\n",
    "print(\"Empty tuple:\", empty_tuple)"
   ]
  },
  {
   "cell_type": "code",
   "execution_count": null,
   "id": "2",
   "metadata": {},
   "outputs": [],
   "source": [
    "# Create a tuple containing names of your sisters and your brothers (imaginary siblings are fine)\n",
    "sisters = ('Sarah', 'Amina')\n",
    "brothers = ('Mustapha', 'Ahmed')\n",
    "print(\"Sisters:\", sisters)\n",
    "print(\"Brothers:\", brothers)"
   ]
  },
  {
   "cell_type": "code",
   "execution_count": null,
   "id": "3",
   "metadata": {},
   "outputs": [],
   "source": [
    "# Join brothers and sisters tuples and assign it to siblings\n",
    "siblings = sisters + brothers\n",
    "print(\"Siblings:\", siblings)"
   ]
  },
  {
   "cell_type": "code",
   "execution_count": null,
   "id": "4",
   "metadata": {},
   "outputs": [],
   "source": [
    "# How many siblings do you have?\n",
    "num_siblings = len(siblings)\n",
    "print(\"Number of siblings:\", num_siblings)"
   ]
  },
  {
   "cell_type": "code",
   "execution_count": null,
   "id": "5",
   "metadata": {},
   "outputs": [],
   "source": [
    "# Modify the siblings tuple and add the name of your father and mother and assign it to family_members\n",
    "family_members = siblings + ('Ali', 'Fatimah')\n",
    "print(\"Family members:\", family_members)"
   ]
  },
  {
   "cell_type": "markdown",
   "id": "2f2efab6",
   "metadata": {},
   "source": [
    "### Tuple Exercises: Level 2"
   ]
  },
  {
   "cell_type": "code",
   "execution_count": null,
   "id": "6",
   "metadata": {},
   "outputs": [],
   "source": [
    "# Unpack siblings and parents from family_members\n",
    "siblings_unpacked, parents_unpacked = family_members[:-2], family_members[-2:]\n",
    "print(\"Siblings:\", siblings_unpacked)\n",
    "print(\"Parents:\", parents_unpacked)"
   ]
  },
  {
   "cell_type": "code",
   "execution_count": null,
   "id": "7",
   "metadata": {},
   "outputs": [],
   "source": [
    "# Create fruits, vegetables and animal products tuples. Join the three tuples and assign it to a variable called food_stuff_tp.\n",
    "fruits = ('apple', 'banana', 'orange')\n",
    "vegetables = ('carrot', 'potato', 'spinach')\n",
    "animal_products = ('milk', 'eggs', 'cheese')\n",
    "food_stuff_tp = fruits + vegetables + animal_products\n",
    "print(\"Food stuff tuple:\", food_stuff_tp)"
   ]
  },
  {
   "cell_type": "code",
   "execution_count": null,
   "id": "8",
   "metadata": {},
   "outputs": [],
   "source": [
    "# Change the about food_stuff_tp tuple to a food_stuff_lt list\n",
    "food_stuff_lt = list(food_stuff_tp)\n",
    "print(\"Food stuff list:\", food_stuff_lt)"
   ]
  },
  {
   "cell_type": "code",
   "execution_count": null,
   "id": "9",
   "metadata": {},
   "outputs": [],
   "source": [
    "# Slice out the middle item or items from the food_stuff_tp tuple or food_stuff_lt list.\n",
    "middle_item = food_stuff_tp[len(food_stuff_tp) // 2] if len(food_stuff_tp) % 2 != 0 else food_stuff_tp[len(food_stuff_tp) // 2 - 1: len(food_stuff_tp) // 2 + 1]\n",
    "print(\"Middle item(s):\", middle_item)"
   ]
  },
  {
   "cell_type": "code",
   "execution_count": null,
   "id": "10",
   "metadata": {},
   "outputs": [],
   "source": [
    "# Slice out the first three items and the last three items from food_staff_lt list\n",
    "first_three = food_stuff_lt[:3]\n",
    "last_three = food_stuff_lt[-3:]\n",
    "print(\"First three items:\", first_three)\n",
    "print(\"Last three items:\", last_three)"
   ]
  },
  {
   "cell_type": "code",
   "execution_count": null,
   "id": "11",
   "metadata": {},
   "outputs": [],
   "source": [
    "# Delete the food_staff_tp tuple completely\n",
    "del food_stuff_tp\n",
    "print(\"Food stuff tuple deleted.\")"
   ]
  },
  {
   "cell_type": "code",
   "execution_count": null,
   "id": "12",
   "metadata": {},
   "outputs": [],
   "source": [
    "# Check if an item exists in tuple:\n",
    "# Check if 'Estonia' is a nordic country\n",
    "nordic_countries = ('Denmark', 'Finland', 'Iceland', 'Norway', 'Sweden')\n",
    "is_estonia_nordic = 'Estonia' in nordic_countries\n",
    "print(\"Is 'Estonia' a nordic country?\", is_estonia_nordic)"
   ]
  },
  {
   "cell_type": "code",
   "execution_count": null,
   "id": "13",
   "metadata": {},
   "outputs": [],
   "source": [
    "# Check if 'Iceland' is a nordic country\n",
    "is_iceland_nordic = 'Iceland' in nordic_countries\n",
    "print(\"Is 'Iceland' a nordic country?\", is_iceland_nordic)"
   ]
  }
 ],
 "metadata": {
  "kernelspec": {
   "display_name": "Python 3",
   "language": "python",
   "name": "python3"
  },
  "language_info": {
   "codemirror_mode": {
    "name": "ipython",
    "version": 3
   },
   "file_extension": ".py",
   "mimetype": "text/x-python",
   "name": "python",
   "nbconvert_exporter": "python",
   "pygments_lexer": "ipython3",
   "version": "3.12.8"
  }
 },
 "nbformat": 4,
 "nbformat_minor": 5
}
