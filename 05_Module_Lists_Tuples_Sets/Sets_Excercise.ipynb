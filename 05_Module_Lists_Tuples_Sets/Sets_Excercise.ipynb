{
 "cells": [
  {
   "cell_type": "markdown",
   "id": "aca83dda",
   "metadata": {},
   "source": [
    "### Sets Exercises: Level 1"
   ]
  },
  {
   "cell_type": "code",
   "execution_count": 1,
   "id": "1",
   "metadata": {},
   "outputs": [
    {
     "name": "stdout",
     "output_type": "stream",
     "text": [
      "Length of it_companies set: 7\n"
     ]
    }
   ],
   "source": [
    "# Find the length of the set it_companies\n",
    "it_companies = {'Facebook', 'Google', 'Microsoft', 'Apple', 'IBM', 'Oracle', 'Amazon'}\n",
    "length_of_it_companies = len(it_companies)\n",
    "print(\"Length of it_companies set:\", length_of_it_companies)"
   ]
  },
  {
   "cell_type": "code",
   "execution_count": 2,
   "id": "2",
   "metadata": {},
   "outputs": [
    {
     "name": "stdout",
     "output_type": "stream",
     "text": [
      "it_companies after adding Twitter: {'Twitter', 'Apple', 'Google', 'Amazon', 'Oracle', 'IBM', 'Microsoft', 'Facebook'}\n"
     ]
    }
   ],
   "source": [
    "# Add 'Twitter' to it_companies\n",
    "it_companies.add('Twitter')\n",
    "print(\"it_companies after adding Twitter:\", it_companies)"
   ]
  },
  {
   "cell_type": "code",
   "execution_count": 3,
   "id": "3",
   "metadata": {},
   "outputs": [
    {
     "name": "stdout",
     "output_type": "stream",
     "text": [
      "it_companies after adding multiple companies: {'Amazon', 'Google', 'Twitter', 'Snapchat', 'Oracle', 'Pinterest', 'IBM', 'Microsoft', 'Facebook', 'LinkedIn', 'Apple'}\n"
     ]
    }
   ],
   "source": [
    "# Insert multiple IT companies at once to the set it_companies\n",
    "it_companies.update(['LinkedIn', 'Snapchat', 'Pinterest'])\n",
    "print(\"it_companies after adding multiple companies:\", it_companies)"
   ]
  },
  {
   "cell_type": "code",
   "execution_count": 4,
   "id": "4",
   "metadata": {},
   "outputs": [
    {
     "name": "stdout",
     "output_type": "stream",
     "text": [
      "it_companies after removing Twitter: {'Amazon', 'Google', 'Snapchat', 'Oracle', 'Pinterest', 'IBM', 'Microsoft', 'Facebook', 'LinkedIn', 'Apple'}\n"
     ]
    }
   ],
   "source": [
    "# Remove one of the companies from the set it_companies\n",
    "it_companies.remove('Twitter')\n",
    "print(\"it_companies after removing Twitter:\", it_companies)"
   ]
  },
  {
   "cell_type": "code",
   "execution_count": 5,
   "id": "5",
   "metadata": {},
   "outputs": [
    {
     "name": "stdout",
     "output_type": "stream",
     "text": [
      "it_companies after discard operation: {'Amazon', 'Google', 'Snapchat', 'Oracle', 'Pinterest', 'IBM', 'Microsoft', 'Facebook', 'Apple'}\n"
     ]
    }
   ],
   "source": [
    "# What is the difference between remove and discard\n",
    "# remove() raises a KeyError if the item is not found in the set, while discard() does not raise any error.\n",
    "it_companies.discard('LinkedIn')  # no error even if LinkedIn does not exist\n",
    "print(\"it_companies after discard operation:\", it_companies)"
   ]
  },
  {
   "cell_type": "markdown",
   "id": "e1cdcb43",
   "metadata": {},
   "source": [
    "### Sets Exercises: Level 2"
   ]
  },
  {
   "cell_type": "code",
   "execution_count": 6,
   "id": "6",
   "metadata": {},
   "outputs": [
    {
     "name": "stdout",
     "output_type": "stream",
     "text": [
      "Union of A and B: {19, 20, 22, 24, 25, 26, 27, 28}\n"
     ]
    }
   ],
   "source": [
    "# Join A and B\n",
    "A = {19, 22, 24, 20, 25, 26}\n",
    "B = {19, 22, 20, 25, 26, 24, 28, 27}\n",
    "union_ab = A.union(B)\n",
    "print(\"Union of A and B:\", union_ab)"
   ]
  },
  {
   "cell_type": "code",
   "execution_count": 7,
   "id": "7",
   "metadata": {},
   "outputs": [
    {
     "name": "stdout",
     "output_type": "stream",
     "text": [
      "Intersection of A and B: {19, 20, 22, 24, 25, 26}\n"
     ]
    }
   ],
   "source": [
    "# Find A intersection B\n",
    "intersection_ab = A.intersection(B)\n",
    "print(\"Intersection of A and B:\", intersection_ab)"
   ]
  },
  {
   "cell_type": "code",
   "execution_count": 8,
   "id": "8",
   "metadata": {},
   "outputs": [
    {
     "name": "stdout",
     "output_type": "stream",
     "text": [
      "Is A a subset of B? True\n"
     ]
    }
   ],
   "source": [
    "# Is A subset of B\n",
    "is_a_subset_b = A.issubset(B)\n",
    "print(\"Is A a subset of B?\", is_a_subset_b)"
   ]
  },
  {
   "cell_type": "code",
   "execution_count": 9,
   "id": "9",
   "metadata": {},
   "outputs": [
    {
     "name": "stdout",
     "output_type": "stream",
     "text": [
      "Are A and B disjoint sets? False\n"
     ]
    }
   ],
   "source": [
    "# Are A and B disjoint sets\n",
    "are_disjoint = A.isdisjoint(B)\n",
    "print(\"Are A and B disjoint sets?\", are_disjoint)"
   ]
  },
  {
   "cell_type": "code",
   "execution_count": 10,
   "id": "10",
   "metadata": {},
   "outputs": [
    {
     "name": "stdout",
     "output_type": "stream",
     "text": [
      "A joined with B: {19, 20, 22, 24, 25, 26, 27, 28}\n",
      "B joined with A: {19, 20, 22, 24, 25, 26, 27, 28}\n"
     ]
    }
   ],
   "source": [
    "# Join A with B and B with A\n",
    "join_a_b = A | B\n",
    "join_b_a = B | A\n",
    "print(\"A joined with B:\", join_a_b)\n",
    "print(\"B joined with A:\", join_b_a)"
   ]
  },
  {
   "cell_type": "code",
   "execution_count": 11,
   "id": "11",
   "metadata": {},
   "outputs": [
    {
     "name": "stdout",
     "output_type": "stream",
     "text": [
      "Symmetric difference between A and B: {27, 28}\n"
     ]
    }
   ],
   "source": [
    "# What is the symmetric difference between A and B\n",
    "symmetric_diff_ab = A.symmetric_difference(B)\n",
    "print(\"Symmetric difference between A and B:\", symmetric_diff_ab)"
   ]
  },
  {
   "cell_type": "code",
   "execution_count": 12,
   "id": "12",
   "metadata": {},
   "outputs": [
    {
     "name": "stdout",
     "output_type": "stream",
     "text": [
      "Sets A and B are deleted.\n"
     ]
    }
   ],
   "source": [
    "# Delete the sets completely\n",
    "del A, B\n",
    "print(\"Sets A and B are deleted.\")"
   ]
  },
  {
   "cell_type": "markdown",
   "id": "5d32fcdc",
   "metadata": {},
   "source": [
    "### Sets Exercises: Level 3"
   ]
  },
  {
   "cell_type": "code",
   "execution_count": 13,
   "id": "13",
   "metadata": {},
   "outputs": [
    {
     "name": "stdout",
     "output_type": "stream",
     "text": [
      "Length of age list: 8\n",
      "Length of age set: 5\n"
     ]
    }
   ],
   "source": [
    "# Convert the ages to a set and compare the length of the list and the set, which one is bigger?\n",
    "age = [22, 19, 24, 25, 26, 24, 25, 24]\n",
    "age_set = set(age)\n",
    "print(\"Length of age list:\", len(age))\n",
    "print(\"Length of age set:\", len(age_set))"
   ]
  },
  {
   "cell_type": "code",
   "execution_count": 14,
   "id": "14",
   "metadata": {},
   "outputs": [],
   "source": [
    "# Explain the difference between the following data types: string, list, tuple and set\n",
    "# String: A sequence of characters, immutable.\n",
    "# List: An ordered collection of items, mutable.\n",
    "# Tuple: An ordered collection of items, immutable.\n",
    "# Set: An unordered collection of unique items, mutable."
   ]
  },
  {
   "cell_type": "code",
   "execution_count": 15,
   "id": "15",
   "metadata": {},
   "outputs": [
    {
     "name": "stdout",
     "output_type": "stream",
     "text": [
      "Unique words in the sentence: {'a', 'am', 'teach', 'and', 'love', 'inspire', 'people.', 'to', 'teacher', 'I'}\n",
      "Number of unique words: 10\n"
     ]
    }
   ],
   "source": [
    "# I am a teacher and I love to inspire and teach people. How many unique words have been used in the sentence? Use the split methods and set to get the unique words.\n",
    "sentence = 'I am a teacher and I love to inspire and teach people.'\n",
    "words = sentence.split()\n",
    "unique_words = set(words)\n",
    "print(\"Unique words in the sentence:\", unique_words)\n",
    "print(\"Number of unique words:\", len(unique_words))"
   ]
  }
 ],
 "metadata": {
  "kernelspec": {
   "display_name": "Python 3",
   "language": "python",
   "name": "python3"
  },
  "language_info": {
   "codemirror_mode": {
    "name": "ipython",
    "version": 3
   },
   "file_extension": ".py",
   "mimetype": "text/x-python",
   "name": "python",
   "nbconvert_exporter": "python",
   "pygments_lexer": "ipython3",
   "version": "3.12.8"
  }
 },
 "nbformat": 4,
 "nbformat_minor": 5
}
