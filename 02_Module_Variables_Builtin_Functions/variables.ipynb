{
 "cells": [
  {
   "cell_type": "markdown",
   "metadata": {},
   "source": [
    "# Day 2: 30 Days of Python Programming"
   ]
  },
  {
   "cell_type": "code",
   "execution_count": null,
   "metadata": {},
   "outputs": [],
   "source": [
    "# Declare variables\n",
    "first_name = \"Mustapha\"\n",
    "last_name = \"Bari\"\n",
    "full_name = first_name + \" \" + last_name\n",
    "country = \"Nigeria\"\n",
    "city = \"Kano\"\n",
    "age = 30\n",
    "year = 2024\n",
    "is_married = True\n",
    "is_true = True\n",
    "is_light_on = True\n",
    "\n",
    "# Declare multiple variables on one line\n",
    "x, y, z = 5, 10, 15"
   ]
  },
  {
   "cell_type": "markdown",
   "metadata": {},
   "source": [
    "## Check the data types of all variables"
   ]
  },
  {
   "cell_type": "code",
   "execution_count": null,
   "metadata": {},
   "outputs": [],
   "source": [
    "print(\"Data Types:\")\n",
    "print(\"First Name:\", type(first_name))\n",
    "print(\"Last Name:\", type(last_name))\n",
    "print(\"Full Name:\", type(full_name))\n",
    "print(\"Country:\", type(country))\n",
    "print(\"City:\", type(city))\n",
    "print(\"Age:\", type(age))\n",
    "print(\"Year:\", type(year))\n",
    "print(\"Is Married:\", type(is_married))\n",
    "print(\"Is True:\", type(is_true))\n",
    "print(\"Is Light On:\", type(is_light_on))\n",
    "print(\"Multiple Variables (x, y, z):\", type(x), type(y), type(z))"
   ]
  },
  {
   "cell_type": "markdown",
   "metadata": {},
   "source": [
    "## Using `len()` to find the length of the first name"
   ]
  },
  {
   "cell_type": "code",
   "execution_count": null,
   "metadata": {},
   "outputs": [],
   "source": [
    "print(\"\\nLength of First Name:\", len(first_name))"
   ]
  },
  {
   "cell_type": "markdown",
   "metadata": {},
   "source": [
    "## Compare the length of the first name and last name"
   ]
  },
  {
   "cell_type": "code",
   "execution_count": null,
   "metadata": {},
   "outputs": [],
   "source": [
    "if len(first_name) > len(last_name):\n",
    "    print(\"First name is longer.\")\n",
    "elif len(first_name) < len(last_name):\n",
    "    print(\"Last name is longer.\")\n",
    "else:\n",
    "    print(\"First name and last name are of equal length.\")"
   ]
  },
  {
   "cell_type": "markdown",
   "metadata": {},
   "source": [
    "## Perform arithmetic operations"
   ]
  },
  {
   "cell_type": "code",
   "execution_count": null,
   "metadata": {},
   "outputs": [],
   "source": [
    "num_one = 5\n",
    "num_two = 4\n",
    "\n",
    "# Arithmetic operations\n",
    "total = num_one + num_two\n",
    "diff = num_one - num_two\n",
    "product = num_one * num_two\n",
    "division = num_one / num_two\n",
    "remainder = num_one % num_two\n",
    "exp = num_one ** num_two\n",
    "floor_division = num_one // num_two\n",
    "\n",
    "# Print arithmetic results\n",
    "print(\"\\nArithmetic Results:\")\n",
    "print(\"Total:\", total)\n",
    "print(\"Difference:\", diff)\n",
    "print(\"Product:\", product)\n",
    "print(\"Division:\", division)\n",
    "print(\"Remainder:\", remainder)\n",
    "print(\"Exponent:\", exp)\n",
    "print(\"Floor Division:\", floor_division)"
   ]
  },
  {
   "cell_type": "markdown",
   "metadata": {},
   "source": [
    "## Circle calculations"
   ]
  },
  {
   "cell_type": "code",
   "execution_count": null,
   "metadata": {},
   "outputs": [],
   "source": [
    "radius = 30\n",
    "pi = 3.141592653589793\n",
    "area_of_circle = pi * radius**2\n",
    "circum_of_circle = 2 * pi * radius\n",
    "\n",
    "print(\"\\nCircle Calculations:\")\n",
    "print(\"Area of Circle:\", area_of_circle)\n",
    "print(\"Circumference of Circle:\", circum_of_circle)"
   ]
  },
  {
   "cell_type": "markdown",
   "metadata": {},
   "source": [
    "## User input for radius and calculate area"
   ]
  },
  {
   "cell_type": "code",
   "execution_count": null,
   "metadata": {},
   "outputs": [],
   "source": [
    "user_radius = float(input(\"\\nEnter the radius of the circle: \"))\n",
    "user_area_of_circle = pi * user_radius**2\n",
    "print(\"Area of Circle with user input radius:\", user_area_of_circle)"
   ]
  },
  {
   "cell_type": "markdown",
   "metadata": {},
   "source": [
    "## Collect user input"
   ]
  },
  {
   "cell_type": "code",
   "execution_count": null,
   "metadata": {},
   "outputs": [],
   "source": [
    "first_name_input = input(\"\\nEnter your first name: \")\n",
    "last_name_input = input(\"Enter your last name: \")\n",
    "country_input = input(\"Enter your country: \")\n",
    "age_input = input(\"Enter your age: \")\n",
    "\n",
    "# Display user input\n",
    "print(\"\\nUser Input:\")\n",
    "print(\"First Name:\", first_name_input)\n",
    "print(\"Last Name:\", last_name_input)\n",
    "print(\"Country:\", country_input)\n",
    "print(\"Age:\", age_input)"
   ]
  },
  {
   "cell_type": "markdown",
   "metadata": {},
   "source": [
    "## Check Python reserved keywords"
   ]
  },
  {
   "cell_type": "code",
   "execution_count": null,
   "metadata": {},
   "outputs": [],
   "source": [
    "print(\"\\nPython Reserved Keywords:\")\n",
    "help('keywords')"
   ]
  }
 ],
 "metadata": {
  "kernelspec": {
   "display_name": "Python 3",
   "language": "python",
   "name": "python3"
  },
  "language_info": {
   "codemirror_mode": {
    "name": "ipython",
    "version": 3
   },
   "file_extension": ".py",
   "mimetype": "text/x-python",
   "name": "python",
   "nbconvert_exporter": "python",
   "pygments_lexer": "ipython3",
   "version": "3.12.8"
  }
 },
 "nbformat": 4,
 "nbformat_minor": 5
}
