{
 "cells": [
  {
   "cell_type": "code",
   "execution_count": 1,
   "id": "79065c44",
   "metadata": {},
   "outputs": [
    {
     "name": "stdout",
     "output_type": "stream",
     "text": [
      "The number of odds are 50.\n",
      "The number of evens are 51.\n"
     ]
    }
   ],
   "source": [
    "# 1. Declare a function named evens_and_odds.\n",
    "def evens_and_odds(n):\n",
    "    evens = sum(1 for i in range(n + 1) if i % 2 == 0)\n",
    "    odds = n + 1 - evens\n",
    "    return f\"The number of odds are {odds}.\\nThe number of evens are {evens}.\"\n",
    "\n",
    "print(evens_and_odds(100))"
   ]
  },
  {
   "cell_type": "code",
   "execution_count": 2,
   "id": "68fbbbbc",
   "metadata": {},
   "outputs": [
    {
     "name": "stdout",
     "output_type": "stream",
     "text": [
      "Factorial of 65 is 8247650592082470666723170306785496252186258551345437492922123134388955774976000000000000000\n"
     ]
    }
   ],
   "source": [
    "# 2. Call your function factorial, it takes a whole number as a parameter and returns the factorial of the number.\n",
    "def factorial(n):\n",
    "    if n == 0 or n == 1:\n",
    "        return 1\n",
    "    return n * factorial(n - 1)\n",
    "\n",
    "num = int(input(\"Enter a number to calculate its factorial: \"))\n",
    "print(f\"Factorial of {num} is {factorial(num)}\")"
   ]
  },
  {
   "cell_type": "code",
   "execution_count": 4,
   "id": "c396f8c6",
   "metadata": {},
   "outputs": [
    {
     "name": "stdout",
     "output_type": "stream",
     "text": [
      "Is the value empty? True\n"
     ]
    }
   ],
   "source": [
    "# 3. Call your function is_empty, it takes a parameter and checks if it is empty or not.\n",
    "def is_empty(param):\n",
    "    return len(param) == 0 if isinstance(param, (str, list, dict, set, tuple)) else param is None\n",
    "\n",
    "value = input(\"Enter a value to check if it is empty: \")\n",
    "print(f\"Is the value empty? {is_empty(value)}\")"
   ]
  },
  {
   "cell_type": "code",
   "execution_count": 5,
   "id": "7589ca13",
   "metadata": {},
   "outputs": [
    {
     "name": "stdout",
     "output_type": "stream",
     "text": [
      "Mean: 10.2\n",
      "Median: 6.0\n",
      "Mode: [1.0, 3.0, 6.0, 8.0, 33.0]\n",
      "Range: 32.0\n",
      "Variance: 135.76\n",
      "Standard Deviation: 11.651609330903607\n"
     ]
    }
   ],
   "source": [
    "# 4. Write functions which take lists and calculate_mean, calculate_median, calculate_mode, calculate_range, calculate_variance, calculate_std.\n",
    "from collections import Counter\n",
    "import math\n",
    "\n",
    "# Calculate mean\n",
    "def calculate_mean(lst):\n",
    "    return sum(lst) / len(lst)\n",
    "\n",
    "# Calculate median\n",
    "def calculate_median(lst):\n",
    "    sorted_lst = sorted(lst)\n",
    "    n = len(sorted_lst)\n",
    "    mid = n // 2\n",
    "    if n % 2 == 0:\n",
    "        return (sorted_lst[mid - 1] + sorted_lst[mid]) / 2\n",
    "    return sorted_lst[mid]\n",
    "\n",
    "# Calculate mode\n",
    "def calculate_mode(lst):\n",
    "    counts = Counter(lst)\n",
    "    max_count = max(counts.values())\n",
    "    mode = [key for key, val in counts.items() if val == max_count]\n",
    "    return mode if len(mode) > 1 else mode[0]\n",
    "\n",
    "# Calculate range\n",
    "def calculate_range(lst):\n",
    "    return max(lst) - min(lst)\n",
    "\n",
    "# Calculate variance\n",
    "def calculate_variance(lst):\n",
    "    mean = calculate_mean(lst)\n",
    "    return sum((x - mean) ** 2 for x in lst) / len(lst)\n",
    "\n",
    "# Calculate standard deviation\n",
    "def calculate_std(lst):\n",
    "    return math.sqrt(calculate_variance(lst))\n",
    "\n",
    "numbers = list(map(float, input(\"Enter numbers separated by space: \").split()))\n",
    "print(f\"Mean: {calculate_mean(numbers)}\")\n",
    "print(f\"Median: {calculate_median(numbers)}\")\n",
    "print(f\"Mode: {calculate_mode(numbers)}\")\n",
    "print(f\"Range: {calculate_range(numbers)}\")\n",
    "print(f\"Variance: {calculate_variance(numbers)}\")\n",
    "print(f\"Standard Deviation: {calculate_std(numbers)}\")"
   ]
  }
 ],
 "metadata": {
  "kernelspec": {
   "display_name": "Python 3",
   "language": "python",
   "name": "python3"
  },
  "language_info": {
   "codemirror_mode": {
    "name": "ipython",
    "version": 3
   },
   "file_extension": ".py",
   "mimetype": "text/x-python",
   "name": "python",
   "nbconvert_exporter": "python",
   "pygments_lexer": "ipython3",
   "version": "3.12.8"
  }
 },
 "nbformat": 4,
 "nbformat_minor": 5
}
