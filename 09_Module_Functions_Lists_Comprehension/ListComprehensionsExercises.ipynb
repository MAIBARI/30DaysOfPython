{
 "cells": [
  {
   "cell_type": "code",
   "execution_count": 1,
   "id": "negative-and-zero",
   "metadata": {},
   "outputs": [
    {
     "name": "stdout",
     "output_type": "stream",
     "text": [
      "Negative and zero: [-4, -3, -2, -1, 0]\n"
     ]
    }
   ],
   "source": [
    "# 1. Filter only negative and zero in the list using list comprehension\n",
    "numbers = [-4, -3, -2, -1, 0, 2, 4, 6]\n",
    "negative_and_zero = [n for n in numbers if n <= 0]\n",
    "print(\"Negative and zero:\", negative_and_zero)"
   ]
  },
  {
   "cell_type": "code",
   "execution_count": 2,
   "id": "flatten-list",
   "metadata": {},
   "outputs": [
    {
     "name": "stdout",
     "output_type": "stream",
     "text": [
      "Flattened list: [1, 2, 3, 4, 5, 6, 7, 8, 9]\n"
     ]
    }
   ],
   "source": [
    "# 2. Flatten the following list of lists of lists to a one-dimensional list\n",
    "list_of_lists = [[[1, 2, 3]], [[4, 5, 6]], [[7, 8, 9]]]\n",
    "flattened_list = [num for sublist1 in list_of_lists for sublist2 in sublist1 for num in sublist2]\n",
    "print(\"Flattened list:\", flattened_list)"
   ]
  },
  {
   "cell_type": "code",
   "execution_count": 3,
   "id": "list-of-tuples",
   "metadata": {},
   "outputs": [
    {
     "name": "stdout",
     "output_type": "stream",
     "text": [
      "List of tuples: [(0, 1, 0, 0, 0, 0, 0), (1, 1, 1, 1, 1, 1, 1), (2, 1, 2, 4, 8, 16, 32), (3, 1, 3, 9, 27, 81, 243), (4, 1, 4, 16, 64, 256, 1024), (5, 1, 5, 25, 125, 625, 3125), (6, 1, 6, 36, 216, 1296, 7776), (7, 1, 7, 49, 343, 2401, 16807), (8, 1, 8, 64, 512, 4096, 32768), (9, 1, 9, 81, 729, 6561, 59049), (10, 1, 10, 100, 1000, 10000, 100000)]\n"
     ]
    }
   ],
   "source": [
    "# 3. Create the list of tuples using list comprehension\n",
    "tuples_list = [(i, 1, i, i**2, i**3, i**4, i**5) for i in range(11)]\n",
    "print(\"List of tuples:\", tuples_list)"
   ]
  },
  {
   "cell_type": "code",
   "execution_count": 4,
   "id": "flatten-countries",
   "metadata": {},
   "outputs": [
    {
     "name": "stdout",
     "output_type": "stream",
     "text": [
      "Flattened countries: [['FINLAND', 'FIN', 'HELSINKI'], ['SWEDEN', 'SWE', 'STOCKHOLM'], ['NORWAY', 'NOR', 'OSLO']]\n"
     ]
    }
   ],
   "source": [
    "# 4. Flatten the following list to a new list\n",
    "countries = [[('Finland', 'Helsinki')], [('Sweden', 'Stockholm')], [('Norway', 'Oslo')]]\n",
    "flattened_countries = [\n",
    "    [country.upper(), country[:3].upper(), city.upper()] for sublist in countries for country, city in sublist\n",
    "]\n",
    "print(\"Flattened countries:\", flattened_countries)"
   ]
  },
  {
   "cell_type": "code",
   "execution_count": 5,
   "id": "countries-dict",
   "metadata": {},
   "outputs": [
    {
     "name": "stdout",
     "output_type": "stream",
     "text": [
      "List of dictionaries: [{'country': 'FINLAND', 'city': 'HELSINKI'}, {'country': 'SWEDEN', 'city': 'STOCKHOLM'}, {'country': 'NORWAY', 'city': 'OSLO'}]\n"
     ]
    }
   ],
   "source": [
    "# 5. Change the following list to a list of dictionaries\n",
    "countries_dict = [\n",
    "    {'country': country.upper(), 'city': city.upper()} for sublist in countries for country, city in sublist\n",
    "]\n",
    "print(\"List of dictionaries:\", countries_dict)"
   ]
  },
  {
   "cell_type": "code",
   "execution_count": 7,
   "id": "concatenated-names",
   "metadata": {},
   "outputs": [
    {
     "name": "stdout",
     "output_type": "stream",
     "text": [
      "Concatenated names: ['Mustapha Ashiru', 'Bari Sani', 'Khadija Ismail', 'Abba Sani']\n"
     ]
    }
   ],
   "source": [
    "# 6. Change the list of lists to a list of concatenated strings\n",
    "names = [[('Mustapha', 'Ashiru')], [('Bari', 'Sani')], [('Khadija', 'Ismail')], [('Abba', 'Sani')]]\n",
    "concatenated_names = [f\"{first} {last}\" for sublist in names for first, last in sublist]\n",
    "print(\"Concatenated names:\", concatenated_names)"
   ]
  },
  {
   "cell_type": "code",
   "execution_count": 8,
   "id": "lambda-functions",
   "metadata": {},
   "outputs": [
    {
     "name": "stdout",
     "output_type": "stream",
     "text": [
      "Slope: 2.0, Y-intercept: 0.0\n"
     ]
    }
   ],
   "source": [
    "# 7. Lambda function to solve slope or y-intercept of linear functions\n",
    "# Formula: y = mx + b\n",
    "slope = lambda x1, y1, x2, y2: (y2 - y1) / (x2 - x1) if x2 - x1 != 0 else \"Undefined\"\n",
    "y_intercept = lambda m, x1, y1: y1 - m * x1\n",
    "\n",
    "# Example usage\n",
    "x1, y1, x2, y2 = 1, 2, 3, 6\n",
    "m = slope(x1, y1, x2, y2)\n",
    "b = y_intercept(m, x1, y1)\n",
    "print(f\"Slope: {m}, Y-intercept: {b}\")"
   ]
  }
 ],
 "metadata": {
  "kernelspec": {
   "display_name": "Python 3",
   "language": "python",
   "name": "python3"
  },
  "language_info": {
   "codemirror_mode": {
    "name": "ipython",
    "version": 3
   },
   "file_extension": ".py",
   "mimetype": "text/x-python",
   "name": "python",
   "nbconvert_exporter": "python",
   "pygments_lexer": "ipython3",
   "version": "3.12.8"
  }
 },
 "nbformat": 4,
 "nbformat_minor": 5
}
