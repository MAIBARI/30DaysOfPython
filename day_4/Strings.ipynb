{
 "cells": [
  {
   "cell_type": "markdown",
   "id": "a5e888ac",
   "metadata": {},
   "source": [
    "# Python Exercises with Questions and Answers"
   ]
  },
  {
   "cell_type": "code",
   "execution_count": null,
   "id": "e153057f",
   "metadata": {},
   "outputs": [],
   "source": [
    "# Q: Concatenate the string 'Thirty', 'Days', 'Of', 'Python' to a single string, 'Thirty Days Of Python'.\n",
    "result = ' '.join(['Thirty', 'Days', 'Of', 'Python'])\n",
    "print(result)"
   ]
  },
  {
   "cell_type": "code",
   "execution_count": null,
   "id": "0fee391e",
   "metadata": {},
   "outputs": [],
   "source": [
    "# Q: Concatenate the string 'Coding', 'For' , 'All' to a single string, 'Coding For All'.\n",
    "result = ' '.join(['Coding', 'For', 'All'])\n",
    "print(result)"
   ]
  },
  {
   "cell_type": "code",
   "execution_count": null,
   "id": "1a388959",
   "metadata": {},
   "outputs": [],
   "source": [
    "# Q: Declare a variable named company and assign it to an initial value 'Coding For All'.\n",
    "company = 'Coding For All'\n",
    "print(company)"
   ]
  },
  {
   "cell_type": "code",
   "execution_count": null,
   "id": "ec73f3a1",
   "metadata": {},
   "outputs": [],
   "source": [
    "# Q: Print the variable company using print().\n",
    "print(company)"
   ]
  },
  {
   "cell_type": "code",
   "execution_count": null,
   "id": "e5cf5ea9",
   "metadata": {},
   "outputs": [],
   "source": [
    "# Q: Print the length of the company string using len() method and print().\n",
    "print(len(company))"
   ]
  },
  {
   "cell_type": "code",
   "execution_count": null,
   "id": "337a5e17",
   "metadata": {},
   "outputs": [],
   "source": [
    "# Q: Change all the characters to uppercase letters using upper() method.\n",
    "print(company.upper())"
   ]
  },
  {
   "cell_type": "code",
   "execution_count": null,
   "id": "6b126c2b",
   "metadata": {},
   "outputs": [],
   "source": [
    "# Q: Change all the characters to lowercase letters using lower() method.\n",
    "print(company.lower())"
   ]
  },
  {
   "cell_type": "code",
   "execution_count": null,
   "id": "fbdf6a9c",
   "metadata": {},
   "outputs": [],
   "source": [
    "# Q: Use capitalize(), title(), swapcase() methods to format the value of the string Coding For All.\n",
    "print(company.capitalize())\n",
    "print(company.title())\n",
    "print(company.swapcase())"
   ]
  },
  {
   "cell_type": "code",
   "execution_count": null,
   "id": "64cb206a",
   "metadata": {},
   "outputs": [],
   "source": [
    "# Q: Cut(slice) out the first word of Coding For All string.\n",
    "print(company[0:6])"
   ]
  },
  {
   "cell_type": "code",
   "execution_count": null,
   "id": "2ee0095b",
   "metadata": {},
   "outputs": [],
   "source": [
    "# Q: Check if Coding For All string contains a word Coding using the method index, find or other methods.\n",
    "print(company.find('Coding'))\n",
    "print(company.index('Coding'))"
   ]
  },
  {
   "cell_type": "code",
   "execution_count": null,
   "id": "4197f9ab",
   "metadata": {},
   "outputs": [],
   "source": [
    "# Q: Replace the word coding in the string 'Coding For All' to Python.\n",
    "print(company.replace('Coding', 'Python'))"
   ]
  },
  {
   "cell_type": "code",
   "execution_count": null,
   "id": "abd52d3b",
   "metadata": {},
   "outputs": [],
   "source": [
    "# Q: Change Python for Everyone to Python for All using the replace method or other methods.\n",
    "phrase = 'Python for Everyone'\n",
    "print(phrase.replace('Everyone', 'All'))"
   ]
  },
  {
   "cell_type": "code",
   "execution_count": null,
   "id": "da6552f1",
   "metadata": {},
   "outputs": [],
   "source": [
    "# Q: Split the string 'Coding For All' using space as the separator (split()).\n",
    "print(company.split())"
   ]
  },
  {
   "cell_type": "code",
   "execution_count": null,
   "id": "145cb3a6",
   "metadata": {},
   "outputs": [],
   "source": [
    "# Q: Split the string 'Facebook, Google, Microsoft, Apple, IBM, Oracle, Amazon' at the comma.\n",
    "tech_companies = 'Facebook, Google, Microsoft, Apple, IBM, Oracle, Amazon'\n",
    "print(tech_companies.split(', '))"
   ]
  },
  {
   "cell_type": "code",
   "execution_count": null,
   "id": "0cc2dd75",
   "metadata": {},
   "outputs": [],
   "source": [
    "# Q: What is the character at index 0 in the string Coding For All?\n",
    "print(company[0])"
   ]
  },
  {
   "cell_type": "code",
   "execution_count": null,
   "id": "457a452b",
   "metadata": {},
   "outputs": [],
   "source": [
    "# Q: What is the last index of the string Coding For All?\n",
    "print(company[-1])"
   ]
  },
  {
   "cell_type": "code",
   "execution_count": null,
   "id": "54e05375",
   "metadata": {},
   "outputs": [],
   "source": [
    "# Q: What character is at index 10 in 'Coding For All' string?\n",
    "print(company[10])"
   ]
  },
  {
   "cell_type": "code",
   "execution_count": null,
   "id": "01575dd2",
   "metadata": {},
   "outputs": [],
   "source": [
    "# Q: Create an acronym or an abbreviation for the name 'Python For Everyone'.\n",
    "phrase = 'Python For Everyone'\n",
    "acronym = ''.join([word[0] for word in phrase.split()])\n",
    "print(acronym)"
   ]
  },
  {
   "cell_type": "code",
   "execution_count": null,
   "id": "bb1e5f70",
   "metadata": {},
   "outputs": [],
   "source": [
    "# Q: Create an acronym or an abbreviation for the name 'Coding For All'.\n",
    "phrase = 'Coding For All'\n",
    "acronym = ''.join([word[0] for word in phrase.split()])\n",
    "print(acronym)"
   ]
  },
  {
   "cell_type": "code",
   "execution_count": null,
   "id": "81db5f8d",
   "metadata": {},
   "outputs": [],
   "source": [
    "# Q: Use index to determine the position of the first occurrence of C in Coding For All.\n",
    "print(company.index('C'))"
   ]
  },
  {
   "cell_type": "code",
   "execution_count": null,
   "id": "3445e91f",
   "metadata": {},
   "outputs": [],
   "source": [
    "# Q: Use index to determine the position of the first occurrence of F in Coding For All.\n",
    "print(company.index('F'))"
   ]
  },
  {
   "cell_type": "code",
   "execution_count": null,
   "id": "596501be",
   "metadata": {},
   "outputs": [],
   "source": [
    "# Q: Use rfind to determine the position of the last occurrence of l in Coding For All People.\n",
    "sentence = 'Coding For All People'\n",
    "print(sentence.rfind('l'))"
   ]
  },
  {
   "cell_type": "code",
   "execution_count": null,
   "id": "11cc99ec",
   "metadata": {},
   "outputs": [],
   "source": [
    "# Q: Use index or find to find the position of the first occurrence of the word 'because' in the sentence: 'You cannot end a sentence with because because because is a conjunction'.\n",
    "sentence = 'You cannot end a sentence with because because because is a conjunction'\n",
    "print(sentence.find('because'))"
   ]
  },
  {
   "cell_type": "code",
   "execution_count": null,
   "id": "02c6d681",
   "metadata": {},
   "outputs": [],
   "source": [
    "# Q: Use rindex to find the position of the last occurrence of the word because in the sentence: 'You cannot end a sentence with because because because is a conjunction'.\n",
    "sentence = 'You cannot end a sentence with because because because is a conjunction'\n",
    "print(sentence.rindex('because'))"
   ]
  }
 ],
 "metadata": {},
 "nbformat": 4,
 "nbformat_minor": 5
}
