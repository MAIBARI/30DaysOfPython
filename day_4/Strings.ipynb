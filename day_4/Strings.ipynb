{
 "cells": [
  {
   "cell_type": "markdown",
   "id": "a5e888ac",
   "metadata": {},
   "source": [
    "# Strings Exercises "
   ]
  },
  {
   "cell_type": "code",
   "execution_count": 2,
   "id": "e153057f",
   "metadata": {},
   "outputs": [
    {
     "name": "stdout",
     "output_type": "stream",
     "text": [
      "Thirty Days Of Python\n"
     ]
    }
   ],
   "source": [
    "# Q: Concatenate the string 'Thirty', 'Days', 'Of', 'Python' to a single string, 'Thirty Days Of Python'.\n",
    "result = ' '.join(['Thirty', 'Days', 'Of', 'Python'])\n",
    "print(result)"
   ]
  },
  {
   "cell_type": "code",
   "execution_count": 3,
   "id": "0fee391e",
   "metadata": {},
   "outputs": [
    {
     "name": "stdout",
     "output_type": "stream",
     "text": [
      "Coding For All\n"
     ]
    }
   ],
   "source": [
    "# Q: Concatenate the string 'Coding', 'For' , 'All' to a single string, 'Coding For All'.\n",
    "result = ' '.join(['Coding', 'For', 'All'])\n",
    "print(result)"
   ]
  },
  {
   "cell_type": "code",
   "execution_count": 4,
   "id": "1a388959",
   "metadata": {},
   "outputs": [
    {
     "name": "stdout",
     "output_type": "stream",
     "text": [
      "Coding For All\n"
     ]
    }
   ],
   "source": [
    "# Q: Declare a variable named company and assign it to an initial value 'Coding For All'.\n",
    "company = 'Coding For All'\n",
    "print(company)"
   ]
  },
  {
   "cell_type": "code",
   "execution_count": 5,
   "id": "ec73f3a1",
   "metadata": {},
   "outputs": [
    {
     "name": "stdout",
     "output_type": "stream",
     "text": [
      "Coding For All\n"
     ]
    }
   ],
   "source": [
    "# Q: Print the variable company using print().\n",
    "print(company)"
   ]
  },
  {
   "cell_type": "code",
   "execution_count": 6,
   "id": "e5cf5ea9",
   "metadata": {},
   "outputs": [
    {
     "name": "stdout",
     "output_type": "stream",
     "text": [
      "14\n"
     ]
    }
   ],
   "source": [
    "# Q: Print the length of the company string using len() method and print().\n",
    "print(len(company))"
   ]
  },
  {
   "cell_type": "code",
   "execution_count": 7,
   "id": "337a5e17",
   "metadata": {},
   "outputs": [
    {
     "name": "stdout",
     "output_type": "stream",
     "text": [
      "CODING FOR ALL\n"
     ]
    }
   ],
   "source": [
    "# Q: Change all the characters to uppercase letters using upper() method.\n",
    "print(company.upper())"
   ]
  },
  {
   "cell_type": "code",
   "execution_count": 8,
   "id": "6b126c2b",
   "metadata": {},
   "outputs": [
    {
     "name": "stdout",
     "output_type": "stream",
     "text": [
      "coding for all\n"
     ]
    }
   ],
   "source": [
    "# Q: Change all the characters to lowercase letters using lower() method.\n",
    "print(company.lower())"
   ]
  },
  {
   "cell_type": "code",
   "execution_count": 9,
   "id": "fbdf6a9c",
   "metadata": {},
   "outputs": [
    {
     "name": "stdout",
     "output_type": "stream",
     "text": [
      "Coding for all\n",
      "Coding For All\n",
      "cODING fOR aLL\n"
     ]
    }
   ],
   "source": [
    "# Q: Use capitalize(), title(), swapcase() methods to format the value of the string Coding For All.\n",
    "print(company.capitalize())\n",
    "print(company.title())\n",
    "print(company.swapcase())"
   ]
  },
  {
   "cell_type": "code",
   "execution_count": 10,
   "id": "64cb206a",
   "metadata": {},
   "outputs": [
    {
     "name": "stdout",
     "output_type": "stream",
     "text": [
      "Coding\n"
     ]
    }
   ],
   "source": [
    "# Q: Cut(slice) out the first word of Coding For All string.\n",
    "print(company[0:6])"
   ]
  },
  {
   "cell_type": "code",
   "execution_count": 27,
   "id": "bdd041e9",
   "metadata": {},
   "outputs": [
    {
     "name": "stdout",
     "output_type": "stream",
     "text": [
      "The position of the first occurrence of 'because': 31\n",
      "Sliced phrase: because because because\n"
     ]
    }
   ],
   "source": [
    "# Question: Find the position of the first occurrence of the word 'because' and slice out the phrase 'because because because' in the sentence.\n",
    "\n",
    "# Define the sentence\n",
    "sentence = 'You cannot end a sentence with because because because is a conjunction'\n",
    "\n",
    "# Find the position of the first occurrence of the word 'because'\n",
    "first_because_index = sentence.find('because')\n",
    "print(\"The position of the first occurrence of 'because':\", first_because_index)\n",
    "\n",
    "# Find the start index of 'because because because'\n",
    "start_index = sentence.find('because because because')\n",
    "\n",
    "# Find the end index by adding the length of the phrase\n",
    "end_index = start_index + len('because because because')\n",
    "\n",
    "# Slice out the phrase\n",
    "sliced_phrase = sentence[start_index:end_index]\n",
    "print(\"Sliced phrase:\", sliced_phrase)"
   ]
  },
  {
   "cell_type": "code",
   "execution_count": 11,
   "id": "2ee0095b",
   "metadata": {},
   "outputs": [
    {
     "name": "stdout",
     "output_type": "stream",
     "text": [
      "0\n",
      "0\n"
     ]
    }
   ],
   "source": [
    "# Q: Check if Coding For All string contains a word Coding using the method index, find or other methods.\n",
    "print(company.find('Coding'))\n",
    "print(company.index('Coding'))"
   ]
  },
  {
   "cell_type": "code",
   "execution_count": 12,
   "id": "4197f9ab",
   "metadata": {},
   "outputs": [
    {
     "name": "stdout",
     "output_type": "stream",
     "text": [
      "Python For All\n"
     ]
    }
   ],
   "source": [
    "# Q: Replace the word coding in the string 'Coding For All' to Python.\n",
    "print(company.replace('Coding', 'Python'))"
   ]
  },
  {
   "cell_type": "code",
   "execution_count": 13,
   "id": "abd52d3b",
   "metadata": {},
   "outputs": [
    {
     "name": "stdout",
     "output_type": "stream",
     "text": [
      "Python for All\n"
     ]
    }
   ],
   "source": [
    "# Q: Change Python for Everyone to Python for All using the replace method or other methods.\n",
    "phrase = 'Python for Everyone'\n",
    "print(phrase.replace('Everyone', 'All'))"
   ]
  },
  {
   "cell_type": "code",
   "execution_count": 14,
   "id": "da6552f1",
   "metadata": {},
   "outputs": [
    {
     "name": "stdout",
     "output_type": "stream",
     "text": [
      "['Coding', 'For', 'All']\n"
     ]
    }
   ],
   "source": [
    "# Q: Split the string 'Coding For All' using space as the separator (split()).\n",
    "print(company.split())"
   ]
  },
  {
   "cell_type": "code",
   "execution_count": 15,
   "id": "145cb3a6",
   "metadata": {},
   "outputs": [
    {
     "name": "stdout",
     "output_type": "stream",
     "text": [
      "['Facebook', 'Google', 'Microsoft', 'Apple', 'IBM', 'Oracle', 'Amazon']\n"
     ]
    }
   ],
   "source": [
    "# Q: Split the string 'Facebook, Google, Microsoft, Apple, IBM, Oracle, Amazon' at the comma.\n",
    "tech_companies = 'Facebook, Google, Microsoft, Apple, IBM, Oracle, Amazon'\n",
    "print(tech_companies.split(', '))"
   ]
  },
  {
   "cell_type": "code",
   "execution_count": 16,
   "id": "0cc2dd75",
   "metadata": {},
   "outputs": [
    {
     "name": "stdout",
     "output_type": "stream",
     "text": [
      "C\n"
     ]
    }
   ],
   "source": [
    "# Q: What is the character at index 0 in the string Coding For All?\n",
    "print(company[0])"
   ]
  },
  {
   "cell_type": "code",
   "execution_count": 17,
   "id": "457a452b",
   "metadata": {},
   "outputs": [
    {
     "name": "stdout",
     "output_type": "stream",
     "text": [
      "l\n"
     ]
    }
   ],
   "source": [
    "# Q: What is the last index of the string Coding For All?\n",
    "print(company[-1])"
   ]
  },
  {
   "cell_type": "code",
   "execution_count": 18,
   "id": "54e05375",
   "metadata": {},
   "outputs": [
    {
     "name": "stdout",
     "output_type": "stream",
     "text": [
      " \n"
     ]
    }
   ],
   "source": [
    "# Q: What character is at index 10 in 'Coding For All' string?\n",
    "print(company[10])"
   ]
  },
  {
   "cell_type": "code",
   "execution_count": 19,
   "id": "01575dd2",
   "metadata": {},
   "outputs": [
    {
     "name": "stdout",
     "output_type": "stream",
     "text": [
      "PFE\n"
     ]
    }
   ],
   "source": [
    "# Q: Create an acronym or an abbreviation for the name 'Python For Everyone'.\n",
    "phrase = 'Python For Everyone'\n",
    "acronym = ''.join([word[0] for word in phrase.split()])\n",
    "print(acronym)"
   ]
  },
  {
   "cell_type": "code",
   "execution_count": 20,
   "id": "bb1e5f70",
   "metadata": {},
   "outputs": [
    {
     "name": "stdout",
     "output_type": "stream",
     "text": [
      "CFA\n"
     ]
    }
   ],
   "source": [
    "# Q: Create an acronym or an abbreviation for the name 'Coding For All'.\n",
    "phrase = 'Coding For All'\n",
    "acronym = ''.join([word[0] for word in phrase.split()])\n",
    "print(acronym)"
   ]
  },
  {
   "cell_type": "code",
   "execution_count": 21,
   "id": "81db5f8d",
   "metadata": {},
   "outputs": [
    {
     "name": "stdout",
     "output_type": "stream",
     "text": [
      "0\n"
     ]
    }
   ],
   "source": [
    "# Q: Use index to determine the position of the first occurrence of C in Coding For All.\n",
    "print(company.index('C'))"
   ]
  },
  {
   "cell_type": "code",
   "execution_count": 22,
   "id": "3445e91f",
   "metadata": {},
   "outputs": [
    {
     "name": "stdout",
     "output_type": "stream",
     "text": [
      "7\n"
     ]
    }
   ],
   "source": [
    "# Q: Use index to determine the position of the first occurrence of F in Coding For All.\n",
    "print(company.index('F'))"
   ]
  },
  {
   "cell_type": "code",
   "execution_count": 23,
   "id": "596501be",
   "metadata": {},
   "outputs": [
    {
     "name": "stdout",
     "output_type": "stream",
     "text": [
      "19\n"
     ]
    }
   ],
   "source": [
    "# Q: Use rfind to determine the position of the last occurrence of l in Coding For All People.\n",
    "sentence = 'Coding For All People'\n",
    "print(sentence.rfind('l'))"
   ]
  },
  {
   "cell_type": "code",
   "execution_count": 24,
   "id": "11cc99ec",
   "metadata": {},
   "outputs": [
    {
     "name": "stdout",
     "output_type": "stream",
     "text": [
      "31\n"
     ]
    }
   ],
   "source": [
    "# Q: Use index or find to find the position of the first occurrence of the word 'because' in the sentence: 'You cannot end a sentence with because because because is a conjunction'.\n",
    "sentence = 'You cannot end a sentence with because because because is a conjunction'\n",
    "print(sentence.find('because'))"
   ]
  },
  {
   "cell_type": "code",
   "execution_count": 25,
   "id": "02c6d681",
   "metadata": {},
   "outputs": [
    {
     "name": "stdout",
     "output_type": "stream",
     "text": [
      "47\n"
     ]
    }
   ],
   "source": [
    "# Q: Use rindex to find the position of the last occurrence of the word because in the sentence: 'You cannot end a sentence with because because because is a conjunction'.\n",
    "sentence = 'You cannot end a sentence with because because because is a conjunction'\n",
    "print(sentence.rindex('because'))"
   ]
  }
 ],
 "metadata": {
  "kernelspec": {
   "display_name": "Python 3",
   "language": "python",
   "name": "python3"
  },
  "language_info": {
   "codemirror_mode": {
    "name": "ipython",
    "version": 3
   },
   "file_extension": ".py",
   "mimetype": "text/x-python",
   "name": "python",
   "nbconvert_exporter": "python",
   "pygments_lexer": "ipython3",
   "version": "3.12.8"
  }
 },
 "nbformat": 4,
 "nbformat_minor": 5
}
