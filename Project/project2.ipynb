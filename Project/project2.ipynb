{
 "cells": [
  {
   "cell_type": "markdown",
   "metadata": {},
   "source": [
    "\n",
    "This notebook fetches the weather information of a given city using the OpenWeather API."
   ]
  },
  {
   "cell_type": "code",
   "execution_count": 1,
   "metadata": {},
   "outputs": [
    {
     "name": "stdout",
     "output_type": "stream",
     "text": [
      "Weather in nigeria: scattered clouds\n",
      "Temperature: 29.17°C\n"
     ]
    }
   ],
   "source": [
    "import requests\n",
    "\n",
    "def get_weather(city, api_key):\n",
    "    base_url = \"http://api.openweathermap.org/data/2.5/weather\"\n",
    "    params = {\n",
    "        'q': city,\n",
    "        'appid': api_key,\n",
    "        'units': 'metric'\n",
    "    }\n",
    "    response = requests.get(base_url, params=params)\n",
    "    if response.status_code == 200:\n",
    "        data = response.json()\n",
    "        weather = data['weather'][0]['description']\n",
    "        temperature = data['main']['temp']\n",
    "        print(f\"Weather in {city}: {weather}\")\n",
    "        print(f\"Temperature: {temperature}°C\")\n",
    "    else:\n",
    "        print(f\"Failed to get weather data for {city}. Error code: {response.status_code}\")\n",
    "\n",
    "if __name__ == \"__main__\":\n",
    "    city = input(\"Enter city name: \")\n",
    "    api_key = \"\"  # Replace with your actual API key\n",
    "    get_weather(city, api_key)\n"
   ]
  }
 ],
 "metadata": {
  "kernelspec": {
   "display_name": "Python 3",
   "language": "python",
   "name": "python3"
  },
  "language_info": {
   "codemirror_mode": {
    "name": "ipython",
    "version": 3
   },
   "file_extension": ".py",
   "mimetype": "text/x-python",
   "name": "python",
   "nbconvert_exporter": "python",
   "pygments_lexer": "ipython3",
   "version": "3.12.8"
  }
 },
 "nbformat": 4,
 "nbformat_minor": 5
}
