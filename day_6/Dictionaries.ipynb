{
  "cells": [
    {
      "cell_type": "code",
      "execution_count": null,
      "id": "b8e3ff58",
      "metadata": {},
      "outputs": [],
      "source": [
        "# Create an empty dictionary called dog\n",
        "dog = {}\n",
        "print(dog)"
      ]
    },
    {
      "cell_type": "code",
      "execution_count": null,
      "id": "f1e2e5c4",
      "metadata": {},
      "outputs": [],
      "source": [
        "# Add name, color, breed, legs, age to the dog dictionary\n",
        "dog['name'] = 'Rex'\n",
        "dog['color'] = 'brown'\n",
        "dog['breed'] = 'Labrador'\n",
        "dog['legs'] = 4\n",
        "dog['age'] = 3\n",
        "print(dog)"
      ]
    },
    {
      "cell_type": "code",
      "execution_count": null,
      "id": "a5d9c4aa",
      "metadata": {},
      "outputs": [],
      "source": [
        "# Create a student dictionary and add first_name, last_name, gender, age, marital status, skills, country, city, and address as keys\n",
        "student = {\n",
        "    'first_name': 'John',\n",
        "    'last_name': 'Doe',\n",
        "    'gender': 'Male',\n",
        "    'age': 20,\n",
        "    'marital_status': 'Single',\n",
        "    'skills': ['Python', 'Machine Learning'],\n",
        "    'country': 'USA',\n",
        "    'city': 'New York',\n",
        "    'address': '123 Main St'\n",
        "}\n",
        "print(student)"
      ]
    },
    {
      "cell_type": "code",
      "execution_count": null,
      "id": "2a17b6b2",
      "metadata": {},
      "outputs": [],
      "source": [
        "# Get the length of the student dictionary\n",
        "student_length = len(student)\n",
        "student_length\n",
        "print(student_length)"
      ]
    },
    {
      "cell_type": "code",
      "execution_count": null,
      "id": "57781848",
      "metadata": {},
      "outputs": [],
      "source": [
        "# Get the value of skills and check the data type, it should be a list\n",
        "skills = student['skills']\n",
        "skills_type = type(skills)\n",
        "skills_type\n",
        "print(skills_type)"
      ]
    },
    {
      "cell_type": "code",
      "execution_count": null,
      "id": "638eb466",
      "metadata": {},
      "outputs": [],
      "source": [
        "# Modify the skills values by adding one or two skills\n",
        "student['skills'].append('Data Science')\n",
        "student['skills'].append('AI')\n",
        "student['skills']\n",
        "print(student)"
      ]
    },
    {
      "cell_type": "code",
      "execution_count": null,
      "id": "ad8fdf91",
      "metadata": {},
      "outputs": [],
      "source": [
        "# Get the dictionary keys as a list\n",
        "keys_list = list(student.keys())\n",
        "keys_list\n",
        "print(keys_list)"
      ]
    },
    {
      "cell_type": "code",
      "execution_count": null,
      "id": "0788276c",
      "metadata": {},
      "outputs": [],
      "source": [
        "# Get the dictionary values as a list\n",
        "values_list = list(student.values())\n",
        "values_list\n",
        "print(values_list) "
      ]
    },
    {
      "cell_type": "code",
      "execution_count": null,
      "id": "ff8ee29f",
      "metadata": {},
      "outputs": [],
      "source": [
        "# Change the dictionary to a list of tuples using items() method\n",
        "student_items = list(student.items())\n",
        "student_items\n",
        "print(student_items)"
      ]
    },
    {
      "cell_type": "code",
      "execution_count": null,
      "id": "7fa35b50",
      "metadata": {},
      "outputs": [],
      "source": [
        "# Delete one of the items in the dictionary\n",
        "del student['address']\n",
        "student\n",
        "print(student)"
      ]
    },
    {
      "cell_type": "code",
      "execution_count": null,
      "id": "f8d1dd93",
      "metadata": {},
      "outputs": [],
      "source": [
        "# Delete the student dictionary\n",
        "del student"
      ]
    }
  ],
  "metadata": {
    "kernelspec": {
      "display_name": "Python 3",
      "language": "python",
      "name": "python3"
    },
    "language_info": {
      "codemirror_mode": {
        "name": "ipython",
        "version": 3
      },
      "file_extension": ".py",
      "mimetype": "text/x-python",
      "name": "python",
      "nbconvert_exporter": "python",
      "pygments_lexer": "ipython3",
      "version": "3.12.8"
    }
  },
  "nbformat": 4,
  "nbformat_minor": 5
}
